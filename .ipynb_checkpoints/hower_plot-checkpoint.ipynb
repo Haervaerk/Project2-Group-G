{
 "cells": [
  {
   "cell_type": "code",
   "execution_count": 238,
   "metadata": {},
   "outputs": [],
   "source": [
    "import altair as alt\n",
    "import pandas as pd\n",
    "import numpy as np\n",
    "\n",
    "source = pd.read_csv('Currently_infected_cumu.tsv', sep='\\t')\n",
    "source = source.rename(columns={\"Unnamed: 0\": \"Country/Region\"})\n",
    "\n",
    "Spa = source[\"Country/Region\"] == \"Spain\"\n",
    "Dkk = source[\"Country/Region\"] == \"Denmark\"\n",
    "Fra = source[\"Country/Region\"] == \"France\"\n",
    "Ger = source[\"Country/Region\"] == \"Germany\"\n",
    "Ita = source[\"Country/Region\"] == \"Italy\"\n",
    "\n",
    "hue = Spa | Dkk | Fra | Ger | Ita\n",
    "\n",
    "df = source[hue]"
   ]
  },
  {
   "cell_type": "code",
   "execution_count": 239,
   "metadata": {},
   "outputs": [],
   "source": [
    "new_frame = pd.DataFrame(columns= [\"Country\", \"Date\", \"Infection\"])\n"
   ]
  },
  {
   "cell_type": "code",
   "execution_count": 240,
   "metadata": {},
   "outputs": [],
   "source": [
    "date_maker = pd.read_csv('infected.tsv', sep='\\t')\n"
   ]
  },
  {
   "cell_type": "code",
   "execution_count": 241,
   "metadata": {},
   "outputs": [],
   "source": [
    "days = list(date_maker[1:1])[4:]"
   ]
  },
  {
   "cell_type": "code",
   "execution_count": 242,
   "metadata": {},
   "outputs": [],
   "source": [
    "#days"
   ]
  },
  {
   "cell_type": "code",
   "execution_count": 243,
   "metadata": {},
   "outputs": [],
   "source": [
    "import time \n",
    "import datetime \n",
    "\n",
    "count = 0\n",
    "for i in range(30, len(days)):\n",
    "    date_today = days[i]                        \n",
    "    new_frame.loc[count] = ['France', date_today, source[Fra].values[0][1:][i]]\n",
    "    count += 1\n",
    "    new_frame.loc[count] = ['Denmark', date_today, source[Dkk].values[0][1:][i]]\n",
    "    count += 1\n",
    "    new_frame.loc[count] = ['Spain', date_today, source[Spa].values[0][1:][i]]\n",
    "    count += 1\n",
    "    new_frame.loc[count] = ['Germany', date_today, source[Ger].values[0][1:][i]]\n",
    "    count += 1\n",
    "    new_frame.loc[count] = ['Italy', date_today, source[Ita].values[0][1:][i]]\n",
    "    count += 1"
   ]
  },
  {
   "cell_type": "code",
   "execution_count": 244,
   "metadata": {},
   "outputs": [
    {
     "data": {
      "text/plain": [
       "0"
      ]
     },
     "execution_count": 244,
     "metadata": {},
     "output_type": "execute_result"
    }
   ],
   "source": [
    "#new_frame\n",
    "source[Fra].values[0][1:][0]"
   ]
  },
  {
   "cell_type": "code",
   "execution_count": 245,
   "metadata": {},
   "outputs": [],
   "source": [
    "#Create dataframe with the points we want hoveracntion on\n",
    "hover_frame = pd.DataFrame(columns= [\"Country\", \"Date\", \"Infection\", \"Text\"])\n"
   ]
  },
  {
   "cell_type": "code",
   "execution_count": 246,
   "metadata": {},
   "outputs": [],
   "source": [
    "yikes = list(date_maker[1:1])\n",
    "#yikes.index(\"3/9/2020\") - 4\n",
    "#source[Dkk].values[0][1:][yikes.index(\"3/9/2020\")-5]\n"
   ]
  },
  {
   "cell_type": "code",
   "execution_count": 247,
   "metadata": {},
   "outputs": [],
   "source": [
    "#Denmark [0,1,2,3,4]\n",
    "hover_frame.loc[0] = ['Denmark', \"3/9/2020\"\n",
    "                        ,source[Dkk].values[0][1:][yikes.index(\"3/9/2020\")-4], \n",
    "                      \"first school is closed. Public transport is encouraged not to be used, especially in rush hours.\"]\n",
    "hover_frame.loc[1] = ['Denmark', \"3/11/2020\"\n",
    "                        ,source[Dkk].values[0][1:][yikes.index(\"3/11/2020\")-4], \n",
    "                      \"Everyone is recommended to stay home. Schools are announced to shutdown from March 13th. Same applies for people working non essential jobs in public sectors.\"]\n",
    "\n",
    "hover_frame.loc[2] = ['Denmark', \"3/14/2020\"\n",
    "                        ,source[Dkk].values[0][1:][yikes.index(\"3/14/2020\")-4], \n",
    "                      \"Borders are closing for people who don’t have a valid purpose of entry.\"]\n",
    "\n"
   ]
  },
  {
   "cell_type": "code",
   "execution_count": 248,
   "metadata": {},
   "outputs": [],
   "source": [
    "#Germany [5,6,7,8,9]\n",
    "hover_frame.loc[5] = ['Germany', pd.Timestamp(time.mktime(\n",
    "                        datetime.datetime.strptime(\"2/26/2020\",\"%m/%d/%Y\").timetuple()), unit='s')\n",
    "                        ,source[Ger].values[0][1:][yikes.index(\"2/26/2020\")-4], \"Several schools and public places were closed in the region of North Rhine-Westphalia, until 2 March. Several other public events are also cancelled.\"]\n",
    "hover_frame.loc[6] = ['Germany', pd.Timestamp(time.mktime(\n",
    "                        datetime.datetime.strptime(\"3/2/2020\",\"%m/%d/%Y\").timetuple()), unit='s')\n",
    "                        ,source[Ger].values[0][1:][yikes.index(\"3/2/2020\")-4], \"the ‘Robert Koch Institute’ raised its threat level for Germany to 'moderate' and the European Centre for Disease Prevention and Control raised its threat level for Europe from 'moderate' to 'high'\"]\n",
    "\n",
    "hover_frame.loc[7] = ['Germany', pd.Timestamp(time.mktime(\n",
    "                        datetime.datetime.strptime(\"3/10/2020\",\"%m/%d/%Y\").timetuple()), unit='s')\n",
    "                        ,source[Ger].values[0][1:][yikes.index(\"3/10/2020\")-4], \"A general ban on events with more than 1,000 participants put into immediate effect by several federal states, Germany's Ice Hockey league’ 2019/2020 season cancelled immediately, Several matches of the football leagues, including all Bundesliga matches of matchday 26, were announced to be played behind closed doors. It was later confirmed on 13 March that all Bundesliga and 2. Bundesliga matches would be postponed until at least 2 April.\"]\n"
   ]
  },
  {
   "cell_type": "code",
   "execution_count": 249,
   "metadata": {},
   "outputs": [],
   "source": [
    "#Italy [10,11,12,13,14]\n",
    "hover_frame.loc[10] = ['Italy', pd.Timestamp(time.mktime(\n",
    "                        datetime.datetime.strptime(\"2/22/2020\",\"%m/%d/%Y\").timetuple()), unit='s')\n",
    "                        ,source[Ita].values[0][1:][yikes.index(\"2/22/2020\")-4], \"the government announced a new decree imposing the quarantine of more than 50,000 people from 11 different municipalities in Northern Italy. Schools were closed in ten municipalities in Lombardy, one in Veneto and one in Emilia Romagna. All public events were cancelled and some commercial activities.\"]\n",
    "\n",
    "hover_frame.loc[11] = ['Italy', pd.Timestamp(time.mktime(\n",
    "                        datetime.datetime.strptime(\"3/1/2020\",\"%m/%d/%Y\").timetuple()), unit='s')\n",
    "                        ,source[Ita].values[0][1:][yikes.index(\"3/1/2020\")-4], \"the Council of Ministers approved a decree to organise the containment of the outbreak: A red zone, where the whole population is in quarantine. A yellow zone, where social and sport events are suspended and schools, theatres, clubs and cinemas are closed.\"]\n",
    "\n",
    "hover_frame.loc[12] = ['Italy', pd.Timestamp(time.mktime(\n",
    "                        datetime.datetime.strptime(\"3/10/2020\",\"%m/%d/%Y\").timetuple()), unit='s')\n",
    "                        ,source[Ita].values[0][1:][yikes.index(\"3/10/2020\")-4], \"Prime Minister Conte increased the quarantine lockdown to cover all of Italy, including travel restrictions and a ban on public gatherings\"]\n"
   ]
  },
  {
   "cell_type": "code",
   "execution_count": 250,
   "metadata": {},
   "outputs": [],
   "source": [
    "#France [15,16,17,18,19]\n",
    "hover_frame.loc[15] = ['France', pd.Timestamp(time.mktime(\n",
    "                        datetime.datetime.strptime(\"3/12/2020\",\"%m/%d/%Y\").timetuple()), unit='s')\n",
    "                        ,source[Fra].values[0][1:][yikes.index(\"3/12/2020\")-4], \n",
    "                      \"President announced that all schools and all universities would close from Monday\"]\n",
    "\n",
    "hover_frame.loc[16] = ['France', pd.Timestamp(time.mktime(\n",
    "                        datetime.datetime.strptime(\"3/13/2020\",\"%m/%d/%Y\").timetuple()), unit='s')\n",
    "                        ,source[Fra].values[0][1:][yikes.index(\"3/13/2020\")-4], \n",
    "                      \"Prime minister banned gatherings of more than 100 people, not including public transportation.\"]\n"
   ]
  },
  {
   "cell_type": "code",
   "execution_count": 251,
   "metadata": {},
   "outputs": [],
   "source": [
    "#Spain [20,21,22,23,24]\n",
    "hover_frame.loc[20] = ['Spain', pd.Timestamp(time.mktime(\n",
    "                        datetime.datetime.strptime(\"3/9/2020\",\"%m/%d/%Y\").timetuple()), unit='s')\n",
    "                        ,source[Spa].values[0][1:][yikes.index(\"3/9/2020\")-4], \n",
    "                      \"The president of Madrid announces the cancellation of classes in the city at all educational levels.\"]\n",
    "hover_frame.loc[21] = ['Spain', pd.Timestamp(time.mktime(\n",
    "                        datetime.datetime.strptime(\"3/13/2020\",\"%m/%d/%Y\").timetuple()), unit='s')\n",
    "                        ,source[Spa].values[0][1:][yikes.index(\"3/13/2020\")-4], \n",
    "                      \"Prime Minister announces the declaration of the state of emergency in the nation for a period of 15 days\"]\n",
    "hover_frame.loc[22] = ['Spain', pd.Timestamp(time.mktime(\n",
    "                        datetime.datetime.strptime(\"3/10/2020\",\"%m/%d/%Y\").timetuple()), unit='s')\n",
    "                        ,source[Spa].values[0][1:][yikes.index(\"3/10/2020\")-4], \n",
    "                      \"Spanish Government suspends events with more than one thousand attendants in many regions.\"]\n",
    "\n",
    "\n",
    "\n"
   ]
  },
  {
   "cell_type": "code",
   "execution_count": 252,
   "metadata": {},
   "outputs": [],
   "source": [
    "#hover_frame"
   ]
  },
  {
   "cell_type": "code",
   "execution_count": 253,
   "metadata": {},
   "outputs": [
    {
     "data": {
      "text/html": [
       "\n",
       "<div id=\"altair-viz-0fc712a0fb384ad08b79ae76b6b066df\"></div>\n",
       "<script type=\"text/javascript\">\n",
       "  (function(spec, embedOpt){\n",
       "    const outputDiv = document.getElementById(\"altair-viz-0fc712a0fb384ad08b79ae76b6b066df\");\n",
       "    const paths = {\n",
       "      \"vega\": \"https://cdn.jsdelivr.net/npm//vega@5?noext\",\n",
       "      \"vega-lib\": \"https://cdn.jsdelivr.net/npm//vega-lib?noext\",\n",
       "      \"vega-lite\": \"https://cdn.jsdelivr.net/npm//vega-lite@4.0.2?noext\",\n",
       "      \"vega-embed\": \"https://cdn.jsdelivr.net/npm//vega-embed@6?noext\",\n",
       "    };\n",
       "\n",
       "    function loadScript(lib) {\n",
       "      return new Promise(function(resolve, reject) {\n",
       "        var s = document.createElement('script');\n",
       "        s.src = paths[lib];\n",
       "        s.async = true;\n",
       "        s.onload = () => resolve(paths[lib]);\n",
       "        s.onerror = () => reject(`Error loading script: ${paths[lib]}`);\n",
       "        document.getElementsByTagName(\"head\")[0].appendChild(s);\n",
       "      });\n",
       "    }\n",
       "\n",
       "    function showError(err) {\n",
       "      outputDiv.innerHTML = `<div class=\"error\" style=\"color:red;\">${err}</div>`;\n",
       "      throw err;\n",
       "    }\n",
       "\n",
       "    function displayChart(vegaEmbed) {\n",
       "      vegaEmbed(outputDiv, spec, embedOpt)\n",
       "        .catch(err => showError(`Javascript Error: ${err.message}<br>This usually means there's a typo in your chart specification. See the javascript console for the full traceback.`));\n",
       "    }\n",
       "\n",
       "    if(typeof define === \"function\" && define.amd) {\n",
       "      requirejs.config({paths});\n",
       "      require([\"vega-embed\"], displayChart, err => showError(`Error loading script: ${err.message}`));\n",
       "    } else if (typeof vegaEmbed === \"function\") {\n",
       "      displayChart(vegaEmbed);\n",
       "    } else {\n",
       "      loadScript(\"vega\")\n",
       "        .then(() => loadScript(\"vega-lite\"))\n",
       "        .then(() => loadScript(\"vega-embed\"))\n",
       "        .catch(showError)\n",
       "        .then(() => displayChart(vegaEmbed));\n",
       "    }\n",
       "  })({\"config\": {\"view\": {\"continuousWidth\": 400, \"continuousHeight\": 300}}, \"data\": {\"name\": \"data-ea656ec6eba18789fd72cffe5c384688\"}, \"mark\": \"line\", \"encoding\": {\"color\": {\"type\": \"nominal\", \"field\": \"Country\"}, \"size\": {\"value\": 3}, \"x\": {\"type\": \"temporal\", \"field\": \"Date\", \"timeUnit\": \"monthdate\"}, \"y\": {\"type\": \"quantitative\", \"field\": \"Infection\"}}, \"height\": 600, \"width\": 800, \"$schema\": \"https://vega.github.io/schema/vega-lite/v4.0.2.json\", \"datasets\": {\"data-ea656ec6eba18789fd72cffe5c384688\": [{\"Country\": \"France\", \"Date\": \"2/21/2020\", \"Infection\": 7}, {\"Country\": \"Denmark\", \"Date\": \"2/21/2020\", \"Infection\": 0}, {\"Country\": \"Spain\", \"Date\": \"2/21/2020\", \"Infection\": 0}, {\"Country\": \"Germany\", \"Date\": \"2/21/2020\", \"Infection\": 2}, {\"Country\": \"Italy\", \"Date\": \"2/21/2020\", \"Infection\": 19}, {\"Country\": \"France\", \"Date\": \"2/22/2020\", \"Infection\": 7}, {\"Country\": \"Denmark\", \"Date\": \"2/22/2020\", \"Infection\": 0}, {\"Country\": \"Spain\", \"Date\": \"2/22/2020\", \"Infection\": 0}, {\"Country\": \"Germany\", \"Date\": \"2/22/2020\", \"Infection\": 2}, {\"Country\": \"Italy\", \"Date\": \"2/22/2020\", \"Infection\": 59}, {\"Country\": \"France\", \"Date\": \"2/23/2020\", \"Infection\": 7}, {\"Country\": \"Denmark\", \"Date\": \"2/23/2020\", \"Infection\": 0}, {\"Country\": \"Spain\", \"Date\": \"2/23/2020\", \"Infection\": 0}, {\"Country\": \"Germany\", \"Date\": \"2/23/2020\", \"Infection\": 2}, {\"Country\": \"Italy\", \"Date\": \"2/23/2020\", \"Infection\": 150}, {\"Country\": \"France\", \"Date\": \"2/24/2020\", \"Infection\": 7}, {\"Country\": \"Denmark\", \"Date\": \"2/24/2020\", \"Infection\": 0}, {\"Country\": \"Spain\", \"Date\": \"2/24/2020\", \"Infection\": 0}, {\"Country\": \"Germany\", \"Date\": \"2/24/2020\", \"Infection\": 2}, {\"Country\": \"Italy\", \"Date\": \"2/24/2020\", \"Infection\": 221}, {\"Country\": \"France\", \"Date\": \"2/25/2020\", \"Infection\": 2}, {\"Country\": \"Denmark\", \"Date\": \"2/25/2020\", \"Infection\": 0}, {\"Country\": \"Spain\", \"Date\": \"2/25/2020\", \"Infection\": 4}, {\"Country\": \"Germany\", \"Date\": \"2/25/2020\", \"Infection\": 3}, {\"Country\": \"Italy\", \"Date\": \"2/25/2020\", \"Infection\": 311}, {\"Country\": \"France\", \"Date\": \"2/26/2020\", \"Infection\": 5}, {\"Country\": \"Denmark\", \"Date\": \"2/26/2020\", \"Infection\": 0}, {\"Country\": \"Spain\", \"Date\": \"2/26/2020\", \"Infection\": 11}, {\"Country\": \"Germany\", \"Date\": \"2/26/2020\", \"Infection\": 12}, {\"Country\": \"Italy\", \"Date\": \"2/26/2020\", \"Infection\": 438}, {\"Country\": \"France\", \"Date\": \"2/27/2020\", \"Infection\": 25}, {\"Country\": \"Denmark\", \"Date\": \"2/27/2020\", \"Infection\": 1}, {\"Country\": \"Spain\", \"Date\": \"2/27/2020\", \"Infection\": 13}, {\"Country\": \"Germany\", \"Date\": \"2/27/2020\", \"Infection\": 30}, {\"Country\": \"Italy\", \"Date\": \"2/27/2020\", \"Infection\": 593}, {\"Country\": \"France\", \"Date\": \"2/28/2020\", \"Infection\": 44}, {\"Country\": \"Denmark\", \"Date\": \"2/28/2020\", \"Infection\": 1}, {\"Country\": \"Spain\", \"Date\": \"2/28/2020\", \"Infection\": 30}, {\"Country\": \"Germany\", \"Date\": \"2/28/2020\", \"Infection\": 32}, {\"Country\": \"Italy\", \"Date\": \"2/28/2020\", \"Infection\": 821}, {\"Country\": \"France\", \"Date\": \"2/29/2020\", \"Infection\": 86}, {\"Country\": \"Denmark\", \"Date\": \"2/29/2020\", \"Infection\": 3}, {\"Country\": \"Spain\", \"Date\": \"2/29/2020\", \"Infection\": 43}, {\"Country\": \"Germany\", \"Date\": \"2/29/2020\", \"Infection\": 63}, {\"Country\": \"Italy\", \"Date\": \"2/29/2020\", \"Infection\": 1053}, {\"Country\": \"France\", \"Date\": \"3/1/2020\", \"Infection\": 116}, {\"Country\": \"Denmark\", \"Date\": \"3/1/2020\", \"Infection\": 4}, {\"Country\": \"Spain\", \"Date\": \"3/1/2020\", \"Infection\": 82}, {\"Country\": \"Germany\", \"Date\": \"3/1/2020\", \"Infection\": 114}, {\"Country\": \"Italy\", \"Date\": \"3/1/2020\", \"Infection\": 1577}, {\"Country\": \"France\", \"Date\": \"3/2/2020\", \"Infection\": 176}, {\"Country\": \"Denmark\", \"Date\": \"3/2/2020\", \"Infection\": 4}, {\"Country\": \"Spain\", \"Date\": \"3/2/2020\", \"Infection\": 118}, {\"Country\": \"Germany\", \"Date\": \"3/2/2020\", \"Infection\": 143}, {\"Country\": \"Italy\", \"Date\": \"3/2/2020\", \"Infection\": 1835}, {\"Country\": \"France\", \"Date\": \"3/3/2020\", \"Infection\": 188}, {\"Country\": \"Denmark\", \"Date\": \"3/3/2020\", \"Infection\": 6}, {\"Country\": \"Spain\", \"Date\": \"3/3/2020\", \"Infection\": 162}, {\"Country\": \"Germany\", \"Date\": \"3/3/2020\", \"Infection\": 180}, {\"Country\": \"Italy\", \"Date\": \"3/3/2020\", \"Infection\": 2263}, {\"Country\": \"France\", \"Date\": \"3/4/2020\", \"Infection\": 272}, {\"Country\": \"Denmark\", \"Date\": \"3/4/2020\", \"Infection\": 11}, {\"Country\": \"Spain\", \"Date\": \"3/4/2020\", \"Infection\": 218}, {\"Country\": \"Germany\", \"Date\": \"3/4/2020\", \"Infection\": 246}, {\"Country\": \"Italy\", \"Date\": \"3/4/2020\", \"Infection\": 2706}, {\"Country\": \"France\", \"Date\": \"3/5/2020\", \"Infection\": 362}, {\"Country\": \"Denmark\", \"Date\": \"3/5/2020\", \"Infection\": 11}, {\"Country\": \"Spain\", \"Date\": \"3/5/2020\", \"Infection\": 254}, {\"Country\": \"Germany\", \"Date\": \"3/5/2020\", \"Infection\": 466}, {\"Country\": \"Italy\", \"Date\": \"3/5/2020\", \"Infection\": 3296}, {\"Country\": \"France\", \"Date\": \"3/6/2020\", \"Infection\": 635}, {\"Country\": \"Denmark\", \"Date\": \"3/6/2020\", \"Infection\": 23}, {\"Country\": \"Spain\", \"Date\": \"3/6/2020\", \"Infection\": 393}, {\"Country\": \"Germany\", \"Date\": \"3/6/2020\", \"Infection\": 653}, {\"Country\": \"Italy\", \"Date\": \"3/6/2020\", \"Infection\": 3916}, {\"Country\": \"France\", \"Date\": \"3/7/2020\", \"Infection\": 929}, {\"Country\": \"Denmark\", \"Date\": \"3/7/2020\", \"Infection\": 23}, {\"Country\": \"Spain\", \"Date\": \"3/7/2020\", \"Infection\": 460}, {\"Country\": \"Germany\", \"Date\": \"3/7/2020\", \"Infection\": 781}, {\"Country\": \"Italy\", \"Date\": \"3/7/2020\", \"Infection\": 5061}, {\"Country\": \"France\", \"Date\": \"3/8/2020\", \"Infection\": 1098}, {\"Country\": \"Denmark\", \"Date\": \"3/8/2020\", \"Infection\": 36}, {\"Country\": \"Spain\", \"Date\": \"3/8/2020\", \"Infection\": 626}, {\"Country\": \"Germany\", \"Date\": \"3/8/2020\", \"Infection\": 1022}, {\"Country\": \"Italy\", \"Date\": \"3/8/2020\", \"Infection\": 6387}, {\"Country\": \"France\", \"Date\": \"3/9/2020\", \"Infection\": 1181}, {\"Country\": \"Denmark\", \"Date\": \"3/9/2020\", \"Infection\": 91}, {\"Country\": \"Spain\", \"Date\": \"3/9/2020\", \"Infection\": 1013}, {\"Country\": \"Germany\", \"Date\": \"3/9/2020\", \"Infection\": 1156}, {\"Country\": \"Italy\", \"Date\": \"3/9/2020\", \"Infection\": 7985}, {\"Country\": \"France\", \"Date\": \"3/10/2020\", \"Infection\": 1742}, {\"Country\": \"Denmark\", \"Date\": \"3/10/2020\", \"Infection\": 263}, {\"Country\": \"Spain\", \"Date\": \"3/10/2020\", \"Infection\": 1628}, {\"Country\": \"Germany\", \"Date\": \"3/10/2020\", \"Infection\": 1437}, {\"Country\": \"Italy\", \"Date\": \"3/10/2020\", \"Infection\": 8794}, {\"Country\": \"France\", \"Date\": \"3/11/2020\", \"Infection\": 2224}, {\"Country\": \"Denmark\", \"Date\": \"3/11/2020\", \"Infection\": 443}, {\"Country\": \"Spain\", \"Date\": \"3/11/2020\", \"Infection\": 2040}, {\"Country\": \"Germany\", \"Date\": \"3/11/2020\", \"Infection\": 1880}, {\"Country\": \"Italy\", \"Date\": \"3/11/2020\", \"Infection\": 10590}, {\"Country\": \"France\", \"Date\": \"3/12/2020\", \"Infection\": 2224}, {\"Country\": \"Denmark\", \"Date\": \"3/12/2020\", \"Infection\": 616}, {\"Country\": \"Spain\", \"Date\": \"3/12/2020\", \"Infection\": 2039}, {\"Country\": \"Germany\", \"Date\": \"3/12/2020\", \"Infection\": 2050}, {\"Country\": \"Italy\", \"Date\": \"3/12/2020\", \"Infection\": 10590}, {\"Country\": \"France\", \"Date\": \"3/13/2020\", \"Infection\": 3576}, {\"Country\": \"Denmark\", \"Date\": \"3/13/2020\", \"Infection\": 803}, {\"Country\": \"Spain\", \"Date\": \"3/13/2020\", \"Infection\": 4906}, {\"Country\": \"Germany\", \"Date\": \"3/13/2020\", \"Infection\": 3622}, {\"Country\": \"Italy\", \"Date\": \"3/13/2020\", \"Infection\": 14955}, {\"Country\": \"France\", \"Date\": \"3/14/2020\", \"Infection\": 4377}, {\"Country\": \"Denmark\", \"Date\": \"3/14/2020\", \"Infection\": 834}, {\"Country\": \"Spain\", \"Date\": \"3/14/2020\", \"Infection\": 5679}, {\"Country\": \"Germany\", \"Date\": \"3/14/2020\", \"Infection\": 4530}, {\"Country\": \"Italy\", \"Date\": \"3/14/2020\", \"Infection\": 17750}]}}, {\"mode\": \"vega-lite\"});\n",
       "</script>"
      ],
      "text/plain": [
       "alt.Chart(...)"
      ]
     },
     "execution_count": 253,
     "metadata": {},
     "output_type": "execute_result"
    }
   ],
   "source": [
    "import altair as alt\n",
    "\n",
    "okay = alt.Chart(new_frame,width=800, height=600).mark_line().encode(\n",
    "    x='monthdate(Date):T',\n",
    "    y='Infection',\n",
    "    size=alt.value(3),\n",
    "    color = \"Country\"\n",
    ")#.interactive()\n",
    "okay"
   ]
  },
  {
   "cell_type": "code",
   "execution_count": 254,
   "metadata": {},
   "outputs": [],
   "source": [
    "#start = time.mktime(datetime.datetime.strptime(\"1/21/2020\",\"%m/%d/%Y\").timetuple())\n",
    "#stop = time.mktime(datetime.datetime.strptime(\"3/15/2020\",\"%m/%d/%Y\").timetuple())"
   ]
  },
  {
   "cell_type": "code",
   "execution_count": 255,
   "metadata": {},
   "outputs": [],
   "source": [
    "#maximum = max(list(df[df.columns[-1]]))*1.2"
   ]
  },
  {
   "cell_type": "code",
   "execution_count": 256,
   "metadata": {},
   "outputs": [
    {
     "data": {
      "text/html": [
       "\n",
       "<div id=\"altair-viz-241e7ab6980b41d19e7d6fa186c2a422\"></div>\n",
       "<script type=\"text/javascript\">\n",
       "  (function(spec, embedOpt){\n",
       "    const outputDiv = document.getElementById(\"altair-viz-241e7ab6980b41d19e7d6fa186c2a422\");\n",
       "    const paths = {\n",
       "      \"vega\": \"https://cdn.jsdelivr.net/npm//vega@5?noext\",\n",
       "      \"vega-lib\": \"https://cdn.jsdelivr.net/npm//vega-lib?noext\",\n",
       "      \"vega-lite\": \"https://cdn.jsdelivr.net/npm//vega-lite@4.0.2?noext\",\n",
       "      \"vega-embed\": \"https://cdn.jsdelivr.net/npm//vega-embed@6?noext\",\n",
       "    };\n",
       "\n",
       "    function loadScript(lib) {\n",
       "      return new Promise(function(resolve, reject) {\n",
       "        var s = document.createElement('script');\n",
       "        s.src = paths[lib];\n",
       "        s.async = true;\n",
       "        s.onload = () => resolve(paths[lib]);\n",
       "        s.onerror = () => reject(`Error loading script: ${paths[lib]}`);\n",
       "        document.getElementsByTagName(\"head\")[0].appendChild(s);\n",
       "      });\n",
       "    }\n",
       "\n",
       "    function showError(err) {\n",
       "      outputDiv.innerHTML = `<div class=\"error\" style=\"color:red;\">${err}</div>`;\n",
       "      throw err;\n",
       "    }\n",
       "\n",
       "    function displayChart(vegaEmbed) {\n",
       "      vegaEmbed(outputDiv, spec, embedOpt)\n",
       "        .catch(err => showError(`Javascript Error: ${err.message}<br>This usually means there's a typo in your chart specification. See the javascript console for the full traceback.`));\n",
       "    }\n",
       "\n",
       "    if(typeof define === \"function\" && define.amd) {\n",
       "      requirejs.config({paths});\n",
       "      require([\"vega-embed\"], displayChart, err => showError(`Error loading script: ${err.message}`));\n",
       "    } else if (typeof vegaEmbed === \"function\") {\n",
       "      displayChart(vegaEmbed);\n",
       "    } else {\n",
       "      loadScript(\"vega\")\n",
       "        .then(() => loadScript(\"vega-lite\"))\n",
       "        .then(() => loadScript(\"vega-embed\"))\n",
       "        .catch(showError)\n",
       "        .then(() => displayChart(vegaEmbed));\n",
       "    }\n",
       "  })({\"config\": {\"view\": {\"continuousWidth\": 400, \"continuousHeight\": 300}}, \"layer\": [{\"data\": {\"name\": \"data-56916e9217a1bc132a3cca8ed417ecdb\"}, \"mark\": {\"type\": \"circle\", \"size\": 80}, \"encoding\": {\"color\": {\"type\": \"nominal\", \"field\": \"Country\"}, \"tooltip\": [{\"type\": \"nominal\", \"field\": \"Country\"}, {\"type\": \"temporal\", \"field\": \"Date\"}, {\"type\": \"quantitative\", \"field\": \"Infection\"}, {\"type\": \"nominal\", \"field\": \"Text\"}], \"x\": {\"type\": \"temporal\", \"field\": \"Date\", \"timeUnit\": \"monthdate\"}, \"y\": {\"type\": \"quantitative\", \"field\": \"Infection\"}}}, {\"data\": {\"name\": \"data-ea656ec6eba18789fd72cffe5c384688\"}, \"mark\": \"line\", \"encoding\": {\"color\": {\"type\": \"nominal\", \"field\": \"Country\"}, \"size\": {\"value\": 3}, \"x\": {\"type\": \"temporal\", \"field\": \"Date\", \"timeUnit\": \"monthdate\"}, \"y\": {\"type\": \"quantitative\", \"field\": \"Infection\"}}, \"height\": 600, \"width\": 800}], \"$schema\": \"https://vega.github.io/schema/vega-lite/v4.0.2.json\", \"datasets\": {\"data-56916e9217a1bc132a3cca8ed417ecdb\": [{\"Country\": \"Denmark\", \"Date\": \"2020-03-08T23:00:00\", \"Infection\": 91, \"Text\": \"first school is closed. Public transport is encouraged not to be used, especially in rush hours.\"}, {\"Country\": \"Denmark\", \"Date\": \"2020-03-10T23:00:00\", \"Infection\": 443, \"Text\": \"Everyone is recommended to stay home. Schools are announced to shutdown from March 13th. Same applies for people working non essential jobs in public sectors.\"}, {\"Country\": \"Denmark\", \"Date\": \"2020-03-13T23:00:00\", \"Infection\": 834, \"Text\": \"Borders are closing for people who don\\u2019t have a valid purpose of entry.\"}, {\"Country\": \"Germany\", \"Date\": \"2020-02-25T23:00:00\", \"Infection\": 12, \"Text\": \"Several schools and public places were closed in the region of North Rhine-Westphalia, until 2 March. Several other public events are also cancelled.\"}, {\"Country\": \"Germany\", \"Date\": \"2020-03-01T23:00:00\", \"Infection\": 143, \"Text\": \"the \\u2018Robert Koch Institute\\u2019 raised its threat level for Germany to 'moderate' and the European Centre for Disease Prevention and Control raised its threat level for Europe from 'moderate' to 'high'\"}, {\"Country\": \"Germany\", \"Date\": \"2020-03-09T23:00:00\", \"Infection\": 1437, \"Text\": \"A general ban on events with more than 1,000 participants put into immediate effect by several federal states, Germany's Ice Hockey league\\u2019 2019/2020 season cancelled immediately, Several matches of the football leagues, including all Bundesliga matches of matchday 26, were announced to be played behind closed doors. It was later confirmed on 13 March that all Bundesliga and 2. Bundesliga matches would be postponed until at least 2 April.\"}, {\"Country\": \"Italy\", \"Date\": \"2020-02-21T23:00:00\", \"Infection\": 59, \"Text\": \"the government announced a new decree imposing the quarantine of more than 50,000 people from 11 different municipalities in Northern Italy. Schools were closed in ten municipalities in Lombardy, one in Veneto and one in Emilia Romagna. All public events were cancelled and some commercial activities.\"}, {\"Country\": \"Italy\", \"Date\": \"2020-02-29T23:00:00\", \"Infection\": 1577, \"Text\": \"the Council of Ministers approved a decree to organise the containment of the outbreak: A red zone, where the whole population is in quarantine. A yellow zone, where social and sport events are suspended and schools, theatres, clubs and cinemas are closed.\"}, {\"Country\": \"Italy\", \"Date\": \"2020-03-09T23:00:00\", \"Infection\": 8794, \"Text\": \"Prime Minister Conte increased the quarantine lockdown to cover all of Italy, including travel restrictions and a ban on public gatherings\"}, {\"Country\": \"France\", \"Date\": \"2020-03-11T23:00:00\", \"Infection\": 2224, \"Text\": \"President announced that all schools and all universities would close from Monday\"}, {\"Country\": \"France\", \"Date\": \"2020-03-12T23:00:00\", \"Infection\": 3576, \"Text\": \"Prime minister banned gatherings of more than 100 people, not including public transportation.\"}, {\"Country\": \"Spain\", \"Date\": \"2020-03-08T23:00:00\", \"Infection\": 1013, \"Text\": \"The president of Madrid announces the cancellation of classes in the city at all educational levels.\"}, {\"Country\": \"Spain\", \"Date\": \"2020-03-12T23:00:00\", \"Infection\": 4906, \"Text\": \"Prime Minister announces the declaration of the state of emergency in the nation for a period of 15 days\"}, {\"Country\": \"Spain\", \"Date\": \"2020-03-09T23:00:00\", \"Infection\": 1628, \"Text\": \"Spanish Government suspends events with more than one thousand attendants in many regions.\"}], \"data-ea656ec6eba18789fd72cffe5c384688\": [{\"Country\": \"France\", \"Date\": \"2/21/2020\", \"Infection\": 7}, {\"Country\": \"Denmark\", \"Date\": \"2/21/2020\", \"Infection\": 0}, {\"Country\": \"Spain\", \"Date\": \"2/21/2020\", \"Infection\": 0}, {\"Country\": \"Germany\", \"Date\": \"2/21/2020\", \"Infection\": 2}, {\"Country\": \"Italy\", \"Date\": \"2/21/2020\", \"Infection\": 19}, {\"Country\": \"France\", \"Date\": \"2/22/2020\", \"Infection\": 7}, {\"Country\": \"Denmark\", \"Date\": \"2/22/2020\", \"Infection\": 0}, {\"Country\": \"Spain\", \"Date\": \"2/22/2020\", \"Infection\": 0}, {\"Country\": \"Germany\", \"Date\": \"2/22/2020\", \"Infection\": 2}, {\"Country\": \"Italy\", \"Date\": \"2/22/2020\", \"Infection\": 59}, {\"Country\": \"France\", \"Date\": \"2/23/2020\", \"Infection\": 7}, {\"Country\": \"Denmark\", \"Date\": \"2/23/2020\", \"Infection\": 0}, {\"Country\": \"Spain\", \"Date\": \"2/23/2020\", \"Infection\": 0}, {\"Country\": \"Germany\", \"Date\": \"2/23/2020\", \"Infection\": 2}, {\"Country\": \"Italy\", \"Date\": \"2/23/2020\", \"Infection\": 150}, {\"Country\": \"France\", \"Date\": \"2/24/2020\", \"Infection\": 7}, {\"Country\": \"Denmark\", \"Date\": \"2/24/2020\", \"Infection\": 0}, {\"Country\": \"Spain\", \"Date\": \"2/24/2020\", \"Infection\": 0}, {\"Country\": \"Germany\", \"Date\": \"2/24/2020\", \"Infection\": 2}, {\"Country\": \"Italy\", \"Date\": \"2/24/2020\", \"Infection\": 221}, {\"Country\": \"France\", \"Date\": \"2/25/2020\", \"Infection\": 2}, {\"Country\": \"Denmark\", \"Date\": \"2/25/2020\", \"Infection\": 0}, {\"Country\": \"Spain\", \"Date\": \"2/25/2020\", \"Infection\": 4}, {\"Country\": \"Germany\", \"Date\": \"2/25/2020\", \"Infection\": 3}, {\"Country\": \"Italy\", \"Date\": \"2/25/2020\", \"Infection\": 311}, {\"Country\": \"France\", \"Date\": \"2/26/2020\", \"Infection\": 5}, {\"Country\": \"Denmark\", \"Date\": \"2/26/2020\", \"Infection\": 0}, {\"Country\": \"Spain\", \"Date\": \"2/26/2020\", \"Infection\": 11}, {\"Country\": \"Germany\", \"Date\": \"2/26/2020\", \"Infection\": 12}, {\"Country\": \"Italy\", \"Date\": \"2/26/2020\", \"Infection\": 438}, {\"Country\": \"France\", \"Date\": \"2/27/2020\", \"Infection\": 25}, {\"Country\": \"Denmark\", \"Date\": \"2/27/2020\", \"Infection\": 1}, {\"Country\": \"Spain\", \"Date\": \"2/27/2020\", \"Infection\": 13}, {\"Country\": \"Germany\", \"Date\": \"2/27/2020\", \"Infection\": 30}, {\"Country\": \"Italy\", \"Date\": \"2/27/2020\", \"Infection\": 593}, {\"Country\": \"France\", \"Date\": \"2/28/2020\", \"Infection\": 44}, {\"Country\": \"Denmark\", \"Date\": \"2/28/2020\", \"Infection\": 1}, {\"Country\": \"Spain\", \"Date\": \"2/28/2020\", \"Infection\": 30}, {\"Country\": \"Germany\", \"Date\": \"2/28/2020\", \"Infection\": 32}, {\"Country\": \"Italy\", \"Date\": \"2/28/2020\", \"Infection\": 821}, {\"Country\": \"France\", \"Date\": \"2/29/2020\", \"Infection\": 86}, {\"Country\": \"Denmark\", \"Date\": \"2/29/2020\", \"Infection\": 3}, {\"Country\": \"Spain\", \"Date\": \"2/29/2020\", \"Infection\": 43}, {\"Country\": \"Germany\", \"Date\": \"2/29/2020\", \"Infection\": 63}, {\"Country\": \"Italy\", \"Date\": \"2/29/2020\", \"Infection\": 1053}, {\"Country\": \"France\", \"Date\": \"3/1/2020\", \"Infection\": 116}, {\"Country\": \"Denmark\", \"Date\": \"3/1/2020\", \"Infection\": 4}, {\"Country\": \"Spain\", \"Date\": \"3/1/2020\", \"Infection\": 82}, {\"Country\": \"Germany\", \"Date\": \"3/1/2020\", \"Infection\": 114}, {\"Country\": \"Italy\", \"Date\": \"3/1/2020\", \"Infection\": 1577}, {\"Country\": \"France\", \"Date\": \"3/2/2020\", \"Infection\": 176}, {\"Country\": \"Denmark\", \"Date\": \"3/2/2020\", \"Infection\": 4}, {\"Country\": \"Spain\", \"Date\": \"3/2/2020\", \"Infection\": 118}, {\"Country\": \"Germany\", \"Date\": \"3/2/2020\", \"Infection\": 143}, {\"Country\": \"Italy\", \"Date\": \"3/2/2020\", \"Infection\": 1835}, {\"Country\": \"France\", \"Date\": \"3/3/2020\", \"Infection\": 188}, {\"Country\": \"Denmark\", \"Date\": \"3/3/2020\", \"Infection\": 6}, {\"Country\": \"Spain\", \"Date\": \"3/3/2020\", \"Infection\": 162}, {\"Country\": \"Germany\", \"Date\": \"3/3/2020\", \"Infection\": 180}, {\"Country\": \"Italy\", \"Date\": \"3/3/2020\", \"Infection\": 2263}, {\"Country\": \"France\", \"Date\": \"3/4/2020\", \"Infection\": 272}, {\"Country\": \"Denmark\", \"Date\": \"3/4/2020\", \"Infection\": 11}, {\"Country\": \"Spain\", \"Date\": \"3/4/2020\", \"Infection\": 218}, {\"Country\": \"Germany\", \"Date\": \"3/4/2020\", \"Infection\": 246}, {\"Country\": \"Italy\", \"Date\": \"3/4/2020\", \"Infection\": 2706}, {\"Country\": \"France\", \"Date\": \"3/5/2020\", \"Infection\": 362}, {\"Country\": \"Denmark\", \"Date\": \"3/5/2020\", \"Infection\": 11}, {\"Country\": \"Spain\", \"Date\": \"3/5/2020\", \"Infection\": 254}, {\"Country\": \"Germany\", \"Date\": \"3/5/2020\", \"Infection\": 466}, {\"Country\": \"Italy\", \"Date\": \"3/5/2020\", \"Infection\": 3296}, {\"Country\": \"France\", \"Date\": \"3/6/2020\", \"Infection\": 635}, {\"Country\": \"Denmark\", \"Date\": \"3/6/2020\", \"Infection\": 23}, {\"Country\": \"Spain\", \"Date\": \"3/6/2020\", \"Infection\": 393}, {\"Country\": \"Germany\", \"Date\": \"3/6/2020\", \"Infection\": 653}, {\"Country\": \"Italy\", \"Date\": \"3/6/2020\", \"Infection\": 3916}, {\"Country\": \"France\", \"Date\": \"3/7/2020\", \"Infection\": 929}, {\"Country\": \"Denmark\", \"Date\": \"3/7/2020\", \"Infection\": 23}, {\"Country\": \"Spain\", \"Date\": \"3/7/2020\", \"Infection\": 460}, {\"Country\": \"Germany\", \"Date\": \"3/7/2020\", \"Infection\": 781}, {\"Country\": \"Italy\", \"Date\": \"3/7/2020\", \"Infection\": 5061}, {\"Country\": \"France\", \"Date\": \"3/8/2020\", \"Infection\": 1098}, {\"Country\": \"Denmark\", \"Date\": \"3/8/2020\", \"Infection\": 36}, {\"Country\": \"Spain\", \"Date\": \"3/8/2020\", \"Infection\": 626}, {\"Country\": \"Germany\", \"Date\": \"3/8/2020\", \"Infection\": 1022}, {\"Country\": \"Italy\", \"Date\": \"3/8/2020\", \"Infection\": 6387}, {\"Country\": \"France\", \"Date\": \"3/9/2020\", \"Infection\": 1181}, {\"Country\": \"Denmark\", \"Date\": \"3/9/2020\", \"Infection\": 91}, {\"Country\": \"Spain\", \"Date\": \"3/9/2020\", \"Infection\": 1013}, {\"Country\": \"Germany\", \"Date\": \"3/9/2020\", \"Infection\": 1156}, {\"Country\": \"Italy\", \"Date\": \"3/9/2020\", \"Infection\": 7985}, {\"Country\": \"France\", \"Date\": \"3/10/2020\", \"Infection\": 1742}, {\"Country\": \"Denmark\", \"Date\": \"3/10/2020\", \"Infection\": 263}, {\"Country\": \"Spain\", \"Date\": \"3/10/2020\", \"Infection\": 1628}, {\"Country\": \"Germany\", \"Date\": \"3/10/2020\", \"Infection\": 1437}, {\"Country\": \"Italy\", \"Date\": \"3/10/2020\", \"Infection\": 8794}, {\"Country\": \"France\", \"Date\": \"3/11/2020\", \"Infection\": 2224}, {\"Country\": \"Denmark\", \"Date\": \"3/11/2020\", \"Infection\": 443}, {\"Country\": \"Spain\", \"Date\": \"3/11/2020\", \"Infection\": 2040}, {\"Country\": \"Germany\", \"Date\": \"3/11/2020\", \"Infection\": 1880}, {\"Country\": \"Italy\", \"Date\": \"3/11/2020\", \"Infection\": 10590}, {\"Country\": \"France\", \"Date\": \"3/12/2020\", \"Infection\": 2224}, {\"Country\": \"Denmark\", \"Date\": \"3/12/2020\", \"Infection\": 616}, {\"Country\": \"Spain\", \"Date\": \"3/12/2020\", \"Infection\": 2039}, {\"Country\": \"Germany\", \"Date\": \"3/12/2020\", \"Infection\": 2050}, {\"Country\": \"Italy\", \"Date\": \"3/12/2020\", \"Infection\": 10590}, {\"Country\": \"France\", \"Date\": \"3/13/2020\", \"Infection\": 3576}, {\"Country\": \"Denmark\", \"Date\": \"3/13/2020\", \"Infection\": 803}, {\"Country\": \"Spain\", \"Date\": \"3/13/2020\", \"Infection\": 4906}, {\"Country\": \"Germany\", \"Date\": \"3/13/2020\", \"Infection\": 3622}, {\"Country\": \"Italy\", \"Date\": \"3/13/2020\", \"Infection\": 14955}, {\"Country\": \"France\", \"Date\": \"3/14/2020\", \"Infection\": 4377}, {\"Country\": \"Denmark\", \"Date\": \"3/14/2020\", \"Infection\": 834}, {\"Country\": \"Spain\", \"Date\": \"3/14/2020\", \"Infection\": 5679}, {\"Country\": \"Germany\", \"Date\": \"3/14/2020\", \"Infection\": 4530}, {\"Country\": \"Italy\", \"Date\": \"3/14/2020\", \"Infection\": 17750}]}}, {\"mode\": \"vega-lite\"});\n",
       "</script>"
      ],
      "text/plain": [
       "alt.LayerChart(...)"
      ]
     },
     "execution_count": 256,
     "metadata": {},
     "output_type": "execute_result"
    }
   ],
   "source": [
    "points_ts = alt.Chart(hover_frame).mark_circle(size=80).encode(\n",
    "    x='monthdate(Date)',\n",
    "    y='Infection',\n",
    "    color = \"Country\",\n",
    "    tooltip= [\"Country\", \"Date\", \"Infection\", \"Text\"]\n",
    ")#.interactive()\n",
    "\n",
    "#hue = alt.layer(points_ts,okay)#.interactive()\n",
    "hue = points_ts + okay\n",
    "hue.save(\"chart.html\")\n",
    "hue"
   ]
  },
  {
   "cell_type": "code",
   "execution_count": null,
   "metadata": {},
   "outputs": [],
   "source": []
  },
  {
   "cell_type": "code",
   "execution_count": null,
   "metadata": {},
   "outputs": [],
   "source": []
  }
 ],
 "metadata": {
  "kernelspec": {
   "display_name": "Python 3",
   "language": "python",
   "name": "python3"
  },
  "language_info": {
   "codemirror_mode": {
    "name": "ipython",
    "version": 3
   },
   "file_extension": ".py",
   "mimetype": "text/x-python",
   "name": "python",
   "nbconvert_exporter": "python",
   "pygments_lexer": "ipython3",
   "version": "3.7.4"
  }
 },
 "nbformat": 4,
 "nbformat_minor": 4
}
