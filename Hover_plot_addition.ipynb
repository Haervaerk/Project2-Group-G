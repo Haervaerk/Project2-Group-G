{
 "cells": [
  {
   "cell_type": "code",
   "execution_count": 20,
   "metadata": {},
   "outputs": [],
   "source": [
    "import pandas as pd\n",
    "import numpy as np\n",
    "\n",
    "source = pd.read_csv('Currently_infected_cumu.tsv', sep='\\t')\n",
    "source = source.rename(columns={\"Unnamed: 0\": \"Country/Region\"})\n",
    "\n",
    "Spa = source[\"Country/Region\"] == \"Spain\"\n",
    "Dkk = source[\"Country/Region\"] == \"Denmark\"\n",
    "Fra = source[\"Country/Region\"] == \"France\"\n",
    "Ger = source[\"Country/Region\"] == \"Germany\"\n",
    "Ita = source[\"Country/Region\"] == \"Italy\"\n",
    "\n",
    "hue = Spa | Dkk | Fra | Ger | Ita\n",
    "\n",
    "df = source[hue]"
   ]
  },
  {
   "cell_type": "code",
   "execution_count": 21,
   "metadata": {},
   "outputs": [],
   "source": [
    "days = ['1/22/2020',\n",
    " '1/23/2020',\n",
    " '1/24/2020',\n",
    " '1/25/2020',\n",
    " '1/26/2020',\n",
    " '1/27/2020',\n",
    " '1/28/2020',\n",
    " '1/29/2020',\n",
    " '1/30/2020',\n",
    " '1/31/2020',\n",
    " '2/1/2020',\n",
    " '2/2/2020',\n",
    " '2/3/2020',\n",
    " '2/4/2020',\n",
    " '2/5/2020',\n",
    " '2/6/2020',\n",
    " '2/7/2020',\n",
    " '2/8/2020',\n",
    " '2/9/2020',\n",
    " '2/10/2020',\n",
    " '2/11/2020',\n",
    " '2/12/2020',\n",
    " '2/13/2020',\n",
    " '2/14/2020',\n",
    " '2/15/2020',\n",
    " '2/16/2020',\n",
    " '2/17/2020',\n",
    " '2/18/2020',\n",
    " '2/19/2020',\n",
    " '2/20/2020',\n",
    " '2/21/2020',\n",
    " '2/22/2020',\n",
    " '2/23/2020',\n",
    " '2/24/2020',\n",
    " '2/25/2020',\n",
    " '2/26/2020',\n",
    " '2/27/2020',\n",
    " '2/28/2020',\n",
    " '2/29/2020',\n",
    " '3/1/2020',\n",
    " '3/2/2020',\n",
    " '3/3/2020',\n",
    " '3/4/2020',\n",
    " '3/5/2020',\n",
    " '3/6/2020',\n",
    " '3/7/2020',\n",
    " '3/8/2020',\n",
    " '3/9/2020',\n",
    " '3/10/2020',\n",
    " '3/11/2020']\n"
   ]
  },
  {
   "cell_type": "code",
   "execution_count": 22,
   "metadata": {},
   "outputs": [
    {
     "ename": "NameError",
     "evalue": "name 'new_frame' is not defined",
     "output_type": "error",
     "traceback": [
      "\u001b[0;31m---------------------------------------------------------------------------\u001b[0m",
      "\u001b[0;31mNameError\u001b[0m                                 Traceback (most recent call last)",
      "\u001b[0;32m<ipython-input-22-88e89dd4f04b>\u001b[0m in \u001b[0;36m<module>\u001b[0;34m()\u001b[0m\n\u001b[1;32m      6\u001b[0m     date_today = pd.Timestamp(time.mktime(datetime.datetime.strptime(days[i], \n\u001b[1;32m      7\u001b[0m                                              \"%m/%d/%Y\").timetuple()), unit='s')\n\u001b[0;32m----> 8\u001b[0;31m     \u001b[0mnew_frame\u001b[0m\u001b[0;34m.\u001b[0m\u001b[0mloc\u001b[0m\u001b[0;34m[\u001b[0m\u001b[0mcount\u001b[0m\u001b[0;34m]\u001b[0m \u001b[0;34m=\u001b[0m \u001b[0;34m[\u001b[0m\u001b[0;34m'France'\u001b[0m\u001b[0;34m,\u001b[0m \u001b[0mdate_today\u001b[0m\u001b[0;34m,\u001b[0m \u001b[0msource\u001b[0m\u001b[0;34m[\u001b[0m\u001b[0mFra\u001b[0m\u001b[0;34m]\u001b[0m\u001b[0;34m.\u001b[0m\u001b[0mvalues\u001b[0m\u001b[0;34m[\u001b[0m\u001b[0;36m0\u001b[0m\u001b[0;34m]\u001b[0m\u001b[0;34m[\u001b[0m\u001b[0;36m1\u001b[0m\u001b[0;34m:\u001b[0m\u001b[0;34m]\u001b[0m\u001b[0;34m[\u001b[0m\u001b[0mi\u001b[0m\u001b[0;34m]\u001b[0m\u001b[0;34m]\u001b[0m\u001b[0;34m\u001b[0m\u001b[0m\n\u001b[0m\u001b[1;32m      9\u001b[0m     \u001b[0mcount\u001b[0m \u001b[0;34m+=\u001b[0m \u001b[0;36m1\u001b[0m\u001b[0;34m\u001b[0m\u001b[0m\n\u001b[1;32m     10\u001b[0m     \u001b[0mnew_frame\u001b[0m\u001b[0;34m.\u001b[0m\u001b[0mloc\u001b[0m\u001b[0;34m[\u001b[0m\u001b[0mcount\u001b[0m\u001b[0;34m]\u001b[0m \u001b[0;34m=\u001b[0m \u001b[0;34m[\u001b[0m\u001b[0;34m'Denmark'\u001b[0m\u001b[0;34m,\u001b[0m \u001b[0mdate_today\u001b[0m\u001b[0;34m,\u001b[0m \u001b[0msource\u001b[0m\u001b[0;34m[\u001b[0m\u001b[0mDkk\u001b[0m\u001b[0;34m]\u001b[0m\u001b[0;34m.\u001b[0m\u001b[0mvalues\u001b[0m\u001b[0;34m[\u001b[0m\u001b[0;36m0\u001b[0m\u001b[0;34m]\u001b[0m\u001b[0;34m[\u001b[0m\u001b[0;36m1\u001b[0m\u001b[0;34m:\u001b[0m\u001b[0;34m]\u001b[0m\u001b[0;34m[\u001b[0m\u001b[0mi\u001b[0m\u001b[0;34m]\u001b[0m\u001b[0;34m]\u001b[0m\u001b[0;34m\u001b[0m\u001b[0m\n",
      "\u001b[0;31mNameError\u001b[0m: name 'new_frame' is not defined"
     ]
    }
   ],
   "source": [
    "import time \n",
    "import datetime \n",
    "\n",
    "count = 0\n",
    "for i in range(20, len(days)):\n",
    "    date_today = pd.Timestamp(time.mktime(datetime.datetime.strptime(days[i], \n",
    "                                             \"%m/%d/%Y\").timetuple()), unit='s')\n",
    "    new_frame.loc[count] = ['France', date_today, source[Fra].values[0][1:][i]]\n",
    "    count += 1\n",
    "    new_frame.loc[count] = ['Denmark', date_today, source[Dkk].values[0][1:][i]]\n",
    "    count += 1\n",
    "    new_frame.loc[count] = ['Spain', date_today, source[Spa].values[0][1:][i]]\n",
    "    count += 1\n",
    "    new_frame.loc[count] = ['Germany', date_today, source[Ger].values[0][1:][i]]\n",
    "    count += 1\n",
    "    new_frame.loc[count] = ['Italy', date_today, source[Ita].values[0][1:][i]]\n",
    "    count += 1"
   ]
  },
  {
   "cell_type": "code",
   "execution_count": 23,
   "metadata": {},
   "outputs": [],
   "source": [
    "#Create dataframe with the points we want hoveracntion on\n",
    "hover_frame = pd.DataFrame(columns= [\"Country\", \"Date\", \"Infection\", \"text\"])\n",
    "\n",
    "date_maker = pd.read_csv('Currently_infected.tsv', sep='\\t')\n",
    "yikes = list(date_maker[1:1])"
   ]
  },
  {
   "cell_type": "code",
   "execution_count": 24,
   "metadata": {},
   "outputs": [
    {
     "data": {
      "text/plain": [
       "12"
      ]
     },
     "execution_count": 24,
     "metadata": {},
     "output_type": "execute_result"
    }
   ],
   "source": [
    "source[Ger].values[0][1:][yikes.index(\"2/26/2020\")-5]"
   ]
  },
  {
   "cell_type": "markdown",
   "metadata": {},
   "source": [
    "# Important stuff here"
   ]
  },
  {
   "cell_type": "code",
   "execution_count": 30,
   "metadata": {},
   "outputs": [],
   "source": [
    "# Germany\n",
    "hover_frame.loc[5] = ['Germany', pd.Timestamp(time.mktime(\n",
    "                        datetime.datetime.strptime(\"2/26/2020\",\"%m/%d/%Y\").timetuple()), unit='s')\n",
    "                        ,source[Ger].values[0][1:][yikes.index(\"2/26/2020\")-4], \"Several schools and public places were closed in the region of North Rhine-Westphalia, until 2 March. Several other public events are also cancelled.\"]\n",
    "hover_frame.loc[6] = ['Germany', pd.Timestamp(time.mktime(\n",
    "                        datetime.datetime.strptime(\"3/2/2020\",\"%m/%d/%Y\").timetuple()), unit='s')\n",
    "                        ,source[Ger].values[0][1:][yikes.index(\"3/2/2020\")-4], \"the ‘Robert Koch Institute’ raised its threat level for Germany to 'moderate' and the European Centre for Disease Prevention and Control raised its threat level for Europe from 'moderate' to 'high'\"]\n",
    "\n",
    "hover_frame.loc[7] = ['Germany', pd.Timestamp(time.mktime(\n",
    "                        datetime.datetime.strptime(\"3/10/2020\",\"%m/%d/%Y\").timetuple()), unit='s')\n",
    "                        ,source[Ger].values[0][1:][yikes.index(\"3/10/2020\")-4], \"A general ban on events with more than 1,000 participants put into immediate effect by several federal states, Germany's Ice Hockey league’ 2019/2020 season cancelled immediately, Several matches of the football leagues, including all Bundesliga matches of matchday 26, were announced to be played behind closed doors. It was later confirmed on 13 March that all Bundesliga and 2. Bundesliga matches would be postponed until at least 2 April.\"]\n",
    "# Italy\n",
    "hover_frame.loc[10] = ['Italy', pd.Timestamp(time.mktime(\n",
    "                        datetime.datetime.strptime(\"2/22/2020\",\"%m/%d/%Y\").timetuple()), unit='s')\n",
    "                        ,source[Ger].values[0][1:][yikes.index(\"2/22/2020\")-4], \"the government announced a new decree imposing the quarantine of more than 50,000 people from 11 different municipalities in Northern Italy. Schools were closed in ten municipalities in Lombardy, one in Veneto and one in Emilia Romagna. All public events were cancelled and some commercial activities.\"]\n",
    "\n",
    "hover_frame.loc[11] = ['Italy', pd.Timestamp(time.mktime(\n",
    "                        datetime.datetime.strptime(\"3/1/2020\",\"%m/%d/%Y\").timetuple()), unit='s')\n",
    "                        ,source[Ger].values[0][1:][yikes.index(\"3/1/2020\")-4], \"the Council of Ministers approved a decree to organise the containment of the outbreak: A red zone, where the whole population is in quarantine. A yellow zone, where social and sport events are suspended and schools, theatres, clubs and cinemas are closed. The rest of the national territory, where safety and prevention measures are advertised in public places and special sanitisations are performed on means of public transport.\"]\n",
    "\n",
    "hover_frame.loc[12] = ['Italy', pd.Timestamp(time.mktime(\n",
    "                        datetime.datetime.strptime(\"3/10/2020\",\"%m/%d/%Y\").timetuple()), unit='s')\n",
    "                        ,source[Ger].values[0][1:][yikes.index(\"3/10/2020\")-4], \"Prime Minister Conte increased the quarantine lockdown to cover all of Italy, including travel restrictions and a ban on public gatherings\"]\n"
   ]
  },
  {
   "cell_type": "code",
   "execution_count": 31,
   "metadata": {},
   "outputs": [
    {
     "data": {
      "text/html": [
       "<div>\n",
       "<style scoped>\n",
       "    .dataframe tbody tr th:only-of-type {\n",
       "        vertical-align: middle;\n",
       "    }\n",
       "\n",
       "    .dataframe tbody tr th {\n",
       "        vertical-align: top;\n",
       "    }\n",
       "\n",
       "    .dataframe thead th {\n",
       "        text-align: right;\n",
       "    }\n",
       "</style>\n",
       "<table border=\"1\" class=\"dataframe\">\n",
       "  <thead>\n",
       "    <tr style=\"text-align: right;\">\n",
       "      <th></th>\n",
       "      <th>Country</th>\n",
       "      <th>Date</th>\n",
       "      <th>Infection</th>\n",
       "      <th>text</th>\n",
       "    </tr>\n",
       "  </thead>\n",
       "  <tbody>\n",
       "    <tr>\n",
       "      <th>5</th>\n",
       "      <td>Germany</td>\n",
       "      <td>2020-02-25 23:00:00</td>\n",
       "      <td>12</td>\n",
       "      <td>Several schools and public places were closed ...</td>\n",
       "    </tr>\n",
       "    <tr>\n",
       "      <th>6</th>\n",
       "      <td>Germany</td>\n",
       "      <td>2020-03-01 23:00:00</td>\n",
       "      <td>143</td>\n",
       "      <td>the ‘Robert Koch Institute’ raised its threat ...</td>\n",
       "    </tr>\n",
       "    <tr>\n",
       "      <th>7</th>\n",
       "      <td>Germany</td>\n",
       "      <td>2020-03-09 23:00:00</td>\n",
       "      <td>1437</td>\n",
       "      <td>A general ban on events with more than 1,000 p...</td>\n",
       "    </tr>\n",
       "    <tr>\n",
       "      <th>10</th>\n",
       "      <td>Italy</td>\n",
       "      <td>2020-02-21 23:00:00</td>\n",
       "      <td>2</td>\n",
       "      <td>the government announced a new decree imposing...</td>\n",
       "    </tr>\n",
       "    <tr>\n",
       "      <th>11</th>\n",
       "      <td>Italy</td>\n",
       "      <td>2020-02-29 23:00:00</td>\n",
       "      <td>114</td>\n",
       "      <td>the Council of Ministers approved a decree to ...</td>\n",
       "    </tr>\n",
       "    <tr>\n",
       "      <th>12</th>\n",
       "      <td>Italy</td>\n",
       "      <td>2020-03-09 23:00:00</td>\n",
       "      <td>1437</td>\n",
       "      <td>Prime Minister Conte increased the quarantine ...</td>\n",
       "    </tr>\n",
       "  </tbody>\n",
       "</table>\n",
       "</div>"
      ],
      "text/plain": [
       "    Country                Date  Infection  \\\n",
       "5   Germany 2020-02-25 23:00:00         12   \n",
       "6   Germany 2020-03-01 23:00:00        143   \n",
       "7   Germany 2020-03-09 23:00:00       1437   \n",
       "10    Italy 2020-02-21 23:00:00          2   \n",
       "11    Italy 2020-02-29 23:00:00        114   \n",
       "12    Italy 2020-03-09 23:00:00       1437   \n",
       "\n",
       "                                                 text  \n",
       "5   Several schools and public places were closed ...  \n",
       "6   the ‘Robert Koch Institute’ raised its threat ...  \n",
       "7   A general ban on events with more than 1,000 p...  \n",
       "10  the government announced a new decree imposing...  \n",
       "11  the Council of Ministers approved a decree to ...  \n",
       "12  Prime Minister Conte increased the quarantine ...  "
      ]
     },
     "execution_count": 31,
     "metadata": {},
     "output_type": "execute_result"
    }
   ],
   "source": [
    "hover_frame"
   ]
  },
  {
   "cell_type": "code",
   "execution_count": null,
   "metadata": {},
   "outputs": [],
   "source": [
    "hover_frame.loc[5] = ['Italy', pd.Timestamp(time.mktime(\n",
    "                        datetime.datetime.strptime(\"2/26/2020\",\"%m/%d/%Y\").timetuple()), unit='s')\n",
    "                        ,source[Ger].values[0][1:][yikes.index(\"2/26/2020\")-5], \"Several schools and public places were closed in the region of North Rhine-Westphalia, until 2 March. Several other public events are also cancelled.\"]\n"
   ]
  }
 ],
 "metadata": {
  "kernelspec": {
   "display_name": "Python 3",
   "language": "python",
   "name": "python3"
  },
  "language_info": {
   "codemirror_mode": {
    "name": "ipython",
    "version": 3
   },
   "file_extension": ".py",
   "mimetype": "text/x-python",
   "name": "python",
   "nbconvert_exporter": "python",
   "pygments_lexer": "ipython3",
   "version": "3.6.5"
  }
 },
 "nbformat": 4,
 "nbformat_minor": 2
}
