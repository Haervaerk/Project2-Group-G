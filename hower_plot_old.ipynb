{
 "cells": [
  {
   "cell_type": "code",
   "execution_count": 33,
   "metadata": {},
   "outputs": [],
   "source": [
    "import altair as alt\n",
    "import pandas as pd\n",
    "import numpy as np\n",
    "\n",
    "source = pd.read_csv('Currently_infected_cumu.tsv', sep='\\t')\n",
    "source = source.rename(columns={\"Unnamed: 0\": \"Country/Region\"})\n",
    "\n",
    "Spa = source[\"Country/Region\"] == \"Spain\"\n",
    "Dkk = source[\"Country/Region\"] == \"Denmark\"\n",
    "Fra = source[\"Country/Region\"] == \"France\"\n",
    "Ger = source[\"Country/Region\"] == \"Germany\"\n",
    "Ita = source[\"Country/Region\"] == \"Italy\"\n",
    "\n",
    "hue = Spa | Dkk | Fra | Ger | Ita\n",
    "\n",
    "df = source[hue]"
   ]
  },
  {
   "cell_type": "code",
   "execution_count": 34,
   "metadata": {},
   "outputs": [],
   "source": [
    "new_frame = pd.DataFrame(columns= [\"Country\", \"Date\", \"Infection\"])\n"
   ]
  },
  {
   "cell_type": "code",
   "execution_count": 35,
   "metadata": {},
   "outputs": [],
   "source": [
    "days = ['1/22/2020',\n",
    " '1/23/2020',\n",
    " '1/24/2020',\n",
    " '1/25/2020',\n",
    " '1/26/2020',\n",
    " '1/27/2020',\n",
    " '1/28/2020',\n",
    " '1/29/2020',\n",
    " '1/30/2020',\n",
    " '1/31/2020',\n",
    " '2/1/2020',\n",
    " '2/2/2020',\n",
    " '2/3/2020',\n",
    " '2/4/2020',\n",
    " '2/5/2020',\n",
    " '2/6/2020',\n",
    " '2/7/2020',\n",
    " '2/8/2020',\n",
    " '2/9/2020',\n",
    " '2/10/2020',\n",
    " '2/11/2020',\n",
    " '2/12/2020',\n",
    " '2/13/2020',\n",
    " '2/14/2020',\n",
    " '2/15/2020',\n",
    " '2/16/2020',\n",
    " '2/17/2020',\n",
    " '2/18/2020',\n",
    " '2/19/2020',\n",
    " '2/20/2020',\n",
    " '2/21/2020',\n",
    " '2/22/2020',\n",
    " '2/23/2020',\n",
    " '2/24/2020',\n",
    " '2/25/2020',\n",
    " '2/26/2020',\n",
    " '2/27/2020',\n",
    " '2/28/2020',\n",
    " '2/29/2020',\n",
    " '3/1/2020',\n",
    " '3/2/2020',\n",
    " '3/3/2020',\n",
    " '3/4/2020',\n",
    " '3/5/2020',\n",
    " '3/6/2020',\n",
    " '3/7/2020',\n",
    " '3/8/2020',\n",
    " '3/9/2020',\n",
    " '3/10/2020',\n",
    " '3/11/2020']\n"
   ]
  },
  {
   "cell_type": "code",
   "execution_count": 36,
   "metadata": {},
   "outputs": [],
   "source": [
    "#source[Fra].values[0][1:]"
   ]
  },
  {
   "cell_type": "code",
   "execution_count": 37,
   "metadata": {},
   "outputs": [],
   "source": [
    "import time \n",
    "import datetime \n",
    "\n",
    "count = 0\n",
    "for i in range(20, len(days)):\n",
    "    date_today = pd.Timestamp(time.mktime(datetime.datetime.strptime(days[i], \n",
    "                                             \"%m/%d/%Y\").timetuple()), unit='s')\n",
    "    new_frame.loc[count] = ['France', date_today, source[Fra].values[0][1:][i]]\n",
    "    count += 1\n",
    "    new_frame.loc[count] = ['Denmark', date_today, source[Dkk].values[0][1:][i]]\n",
    "    count += 1\n",
    "    new_frame.loc[count] = ['Spain', date_today, source[Spa].values[0][1:][i]]\n",
    "    count += 1\n",
    "    new_frame.loc[count] = ['Germany', date_today, source[Ger].values[0][1:][i]]\n",
    "    count += 1\n",
    "    new_frame.loc[count] = ['Italy', date_today, source[Ita].values[0][1:][i]]\n",
    "    count += 1"
   ]
  },
  {
   "cell_type": "code",
   "execution_count": 38,
   "metadata": {},
   "outputs": [
    {
     "data": {
      "text/html": [
       "<div>\n",
       "<style scoped>\n",
       "    .dataframe tbody tr th:only-of-type {\n",
       "        vertical-align: middle;\n",
       "    }\n",
       "\n",
       "    .dataframe tbody tr th {\n",
       "        vertical-align: top;\n",
       "    }\n",
       "\n",
       "    .dataframe thead th {\n",
       "        text-align: right;\n",
       "    }\n",
       "</style>\n",
       "<table border=\"1\" class=\"dataframe\">\n",
       "  <thead>\n",
       "    <tr style=\"text-align: right;\">\n",
       "      <th></th>\n",
       "      <th>Country</th>\n",
       "      <th>Date</th>\n",
       "      <th>Infection</th>\n",
       "    </tr>\n",
       "  </thead>\n",
       "  <tbody>\n",
       "    <tr>\n",
       "      <td>0</td>\n",
       "      <td>France</td>\n",
       "      <td>2020-02-10 23:00:00</td>\n",
       "      <td>11</td>\n",
       "    </tr>\n",
       "    <tr>\n",
       "      <td>1</td>\n",
       "      <td>Denmark</td>\n",
       "      <td>2020-02-10 23:00:00</td>\n",
       "      <td>0</td>\n",
       "    </tr>\n",
       "    <tr>\n",
       "      <td>2</td>\n",
       "      <td>Spain</td>\n",
       "      <td>2020-02-10 23:00:00</td>\n",
       "      <td>2</td>\n",
       "    </tr>\n",
       "    <tr>\n",
       "      <td>3</td>\n",
       "      <td>Germany</td>\n",
       "      <td>2020-02-10 23:00:00</td>\n",
       "      <td>16</td>\n",
       "    </tr>\n",
       "    <tr>\n",
       "      <td>4</td>\n",
       "      <td>Italy</td>\n",
       "      <td>2020-02-10 23:00:00</td>\n",
       "      <td>3</td>\n",
       "    </tr>\n",
       "    <tr>\n",
       "      <td>...</td>\n",
       "      <td>...</td>\n",
       "      <td>...</td>\n",
       "      <td>...</td>\n",
       "    </tr>\n",
       "    <tr>\n",
       "      <td>145</td>\n",
       "      <td>France</td>\n",
       "      <td>2020-03-10 23:00:00</td>\n",
       "      <td>2224</td>\n",
       "    </tr>\n",
       "    <tr>\n",
       "      <td>146</td>\n",
       "      <td>Denmark</td>\n",
       "      <td>2020-03-10 23:00:00</td>\n",
       "      <td>443</td>\n",
       "    </tr>\n",
       "    <tr>\n",
       "      <td>147</td>\n",
       "      <td>Spain</td>\n",
       "      <td>2020-03-10 23:00:00</td>\n",
       "      <td>2040</td>\n",
       "    </tr>\n",
       "    <tr>\n",
       "      <td>148</td>\n",
       "      <td>Germany</td>\n",
       "      <td>2020-03-10 23:00:00</td>\n",
       "      <td>1880</td>\n",
       "    </tr>\n",
       "    <tr>\n",
       "      <td>149</td>\n",
       "      <td>Italy</td>\n",
       "      <td>2020-03-10 23:00:00</td>\n",
       "      <td>10590</td>\n",
       "    </tr>\n",
       "  </tbody>\n",
       "</table>\n",
       "<p>150 rows × 3 columns</p>\n",
       "</div>"
      ],
      "text/plain": [
       "     Country                Date Infection\n",
       "0     France 2020-02-10 23:00:00        11\n",
       "1    Denmark 2020-02-10 23:00:00         0\n",
       "2      Spain 2020-02-10 23:00:00         2\n",
       "3    Germany 2020-02-10 23:00:00        16\n",
       "4      Italy 2020-02-10 23:00:00         3\n",
       "..       ...                 ...       ...\n",
       "145   France 2020-03-10 23:00:00      2224\n",
       "146  Denmark 2020-03-10 23:00:00       443\n",
       "147    Spain 2020-03-10 23:00:00      2040\n",
       "148  Germany 2020-03-10 23:00:00      1880\n",
       "149    Italy 2020-03-10 23:00:00     10590\n",
       "\n",
       "[150 rows x 3 columns]"
      ]
     },
     "execution_count": 38,
     "metadata": {},
     "output_type": "execute_result"
    }
   ],
   "source": [
    "new_frame"
   ]
  },
  {
   "cell_type": "code",
   "execution_count": 39,
   "metadata": {},
   "outputs": [],
   "source": [
    "#Create dataframe with the points we want hoveracntion on\n",
    "hover_frame = pd.DataFrame(columns= [\"Country\", \"Date\", \"Infection\", \"text\"])\n"
   ]
  },
  {
   "cell_type": "code",
   "execution_count": 40,
   "metadata": {},
   "outputs": [
    {
     "data": {
      "text/plain": [
       "91"
      ]
     },
     "execution_count": 40,
     "metadata": {},
     "output_type": "execute_result"
    }
   ],
   "source": [
    "date_maker = pd.read_csv('Currently_infected.tsv', sep='\\t')\n",
    "yikes = list(date_maker[1:1])\n",
    "#yikes.index(\"3/9/2020\") - 4\n",
    "#source[Dkk].values[0][1:][yikes.index(\"3/9/2020\")-5]\n"
   ]
  },
  {
   "cell_type": "code",
   "execution_count": 53,
   "metadata": {},
   "outputs": [],
   "source": [
    "hover_frame.loc[0] = ['Denmark', pd.Timestamp(time.mktime(\n",
    "                        datetime.datetime.strptime(\"3/9/2020\",\"%m/%d/%Y\").timetuple()), unit='s')\n",
    "                        ,source[Dkk].values[0][1:][yikes.index(\"3/9/2020\")-5], \"first school is closed. Public transport is encouraged not to be used, especially in rush hours.\"]\n",
    "\n"
   ]
  },
  {
   "cell_type": "code",
   "execution_count": 54,
   "metadata": {},
   "outputs": [
    {
     "data": {
      "text/html": [
       "<div>\n",
       "<style scoped>\n",
       "    .dataframe tbody tr th:only-of-type {\n",
       "        vertical-align: middle;\n",
       "    }\n",
       "\n",
       "    .dataframe tbody tr th {\n",
       "        vertical-align: top;\n",
       "    }\n",
       "\n",
       "    .dataframe thead th {\n",
       "        text-align: right;\n",
       "    }\n",
       "</style>\n",
       "<table border=\"1\" class=\"dataframe\">\n",
       "  <thead>\n",
       "    <tr style=\"text-align: right;\">\n",
       "      <th></th>\n",
       "      <th>Country</th>\n",
       "      <th>Date</th>\n",
       "      <th>Infection</th>\n",
       "      <th>text</th>\n",
       "    </tr>\n",
       "  </thead>\n",
       "  <tbody>\n",
       "    <tr>\n",
       "      <td>0</td>\n",
       "      <td>Denmark</td>\n",
       "      <td>2020-03-08 23:00:00</td>\n",
       "      <td>91</td>\n",
       "      <td>first school is closed. Public transport is en...</td>\n",
       "    </tr>\n",
       "  </tbody>\n",
       "</table>\n",
       "</div>"
      ],
      "text/plain": [
       "   Country                Date  Infection  \\\n",
       "0  Denmark 2020-03-08 23:00:00         91   \n",
       "\n",
       "                                                text  \n",
       "0  first school is closed. Public transport is en...  "
      ]
     },
     "execution_count": 54,
     "metadata": {},
     "output_type": "execute_result"
    }
   ],
   "source": [
    "hover_frame"
   ]
  },
  {
   "cell_type": "code",
   "execution_count": 55,
   "metadata": {},
   "outputs": [],
   "source": [
    "import altair as alt\n",
    "from vega_datasets import data\n",
    "sc = data.stocks()\n",
    "\n",
    "okay = alt.Chart(new_frame,width=1200, height=800).mark_line().encode(\n",
    "    x='Date',\n",
    "    y='Infection',\n",
    "    color = \"Country\"\n",
    ").interactive()\n",
    "#okay.save('chart.html')"
   ]
  },
  {
   "cell_type": "code",
   "execution_count": 58,
   "metadata": {},
   "outputs": [],
   "source": [
    "points = alt.Chart(hover_frame).mark_circle(size=60).encode(\n",
    "    x='Date',\n",
    "    y='Infection',\n",
    "    color = \"Country\",\n",
    "    tooltip=[\"Country\", \"Date\", \"Infection\", \"text\"]\n",
    ").interactive()"
   ]
  },
  {
   "cell_type": "code",
   "execution_count": 59,
   "metadata": {},
   "outputs": [
    {
     "data": {
      "text/html": [
       "\n",
       "<div id=\"altair-viz-e04e6ae72bc04a44a0c216f3e8b4956f\"></div>\n",
       "<script type=\"text/javascript\">\n",
       "  (function(spec, embedOpt){\n",
       "    const outputDiv = document.getElementById(\"altair-viz-e04e6ae72bc04a44a0c216f3e8b4956f\");\n",
       "    const paths = {\n",
       "      \"vega\": \"https://cdn.jsdelivr.net/npm//vega@5?noext\",\n",
       "      \"vega-lib\": \"https://cdn.jsdelivr.net/npm//vega-lib?noext\",\n",
       "      \"vega-lite\": \"https://cdn.jsdelivr.net/npm//vega-lite@4.0.2?noext\",\n",
       "      \"vega-embed\": \"https://cdn.jsdelivr.net/npm//vega-embed@6?noext\",\n",
       "    };\n",
       "\n",
       "    function loadScript(lib) {\n",
       "      return new Promise(function(resolve, reject) {\n",
       "        var s = document.createElement('script');\n",
       "        s.src = paths[lib];\n",
       "        s.async = true;\n",
       "        s.onload = () => resolve(paths[lib]);\n",
       "        s.onerror = () => reject(`Error loading script: ${paths[lib]}`);\n",
       "        document.getElementsByTagName(\"head\")[0].appendChild(s);\n",
       "      });\n",
       "    }\n",
       "\n",
       "    function showError(err) {\n",
       "      outputDiv.innerHTML = `<div class=\"error\" style=\"color:red;\">${err}</div>`;\n",
       "      throw err;\n",
       "    }\n",
       "\n",
       "    function displayChart(vegaEmbed) {\n",
       "      vegaEmbed(outputDiv, spec, embedOpt)\n",
       "        .catch(err => showError(`Javascript Error: ${err.message}<br>This usually means there's a typo in your chart specification. See the javascript console for the full traceback.`));\n",
       "    }\n",
       "\n",
       "    if(typeof define === \"function\" && define.amd) {\n",
       "      requirejs.config({paths});\n",
       "      require([\"vega-embed\"], displayChart, err => showError(`Error loading script: ${err.message}`));\n",
       "    } else if (typeof vegaEmbed === \"function\") {\n",
       "      displayChart(vegaEmbed);\n",
       "    } else {\n",
       "      loadScript(\"vega\")\n",
       "        .then(() => loadScript(\"vega-lite\"))\n",
       "        .then(() => loadScript(\"vega-embed\"))\n",
       "        .catch(showError)\n",
       "        .then(() => displayChart(vegaEmbed));\n",
       "    }\n",
       "  })({\"config\": {\"view\": {\"continuousWidth\": 400, \"continuousHeight\": 300}}, \"layer\": [{\"data\": {\"name\": \"data-df10d57650b7df7b8d3b9041adba57ac\"}, \"mark\": \"line\", \"encoding\": {\"color\": {\"type\": \"nominal\", \"field\": \"Country\"}, \"x\": {\"type\": \"temporal\", \"field\": \"Date\"}, \"y\": {\"type\": \"quantitative\", \"field\": \"Infection\"}}, \"height\": 800, \"selection\": {\"selector006\": {\"type\": \"interval\", \"bind\": \"scales\", \"encodings\": [\"x\", \"y\"]}}, \"width\": 1200}, {\"data\": {\"name\": \"data-791298f0745defea4b96edb921857d11\"}, \"mark\": {\"type\": \"circle\", \"size\": 60}, \"encoding\": {\"color\": {\"type\": \"nominal\", \"field\": \"Country\"}, \"tooltip\": [{\"type\": \"temporal\", \"field\": \"Date\"}, {\"type\": \"quantitative\", \"field\": \"Infection\"}, {\"type\": \"nominal\", \"field\": \"text\"}], \"x\": {\"type\": \"temporal\", \"field\": \"Date\"}, \"y\": {\"type\": \"quantitative\", \"field\": \"Infection\"}}, \"selection\": {\"selector008\": {\"type\": \"interval\", \"bind\": \"scales\", \"encodings\": [\"x\", \"y\"]}}}], \"$schema\": \"https://vega.github.io/schema/vega-lite/v4.0.2.json\", \"datasets\": {\"data-df10d57650b7df7b8d3b9041adba57ac\": [{\"Country\": \"France\", \"Date\": \"2020-02-10T23:00:00\", \"Infection\": 11}, {\"Country\": \"Denmark\", \"Date\": \"2020-02-10T23:00:00\", \"Infection\": 0}, {\"Country\": \"Spain\", \"Date\": \"2020-02-10T23:00:00\", \"Infection\": 2}, {\"Country\": \"Germany\", \"Date\": \"2020-02-10T23:00:00\", \"Infection\": 16}, {\"Country\": \"Italy\", \"Date\": \"2020-02-10T23:00:00\", \"Infection\": 3}, {\"Country\": \"France\", \"Date\": \"2020-02-11T23:00:00\", \"Infection\": 9}, {\"Country\": \"Denmark\", \"Date\": \"2020-02-11T23:00:00\", \"Infection\": 0}, {\"Country\": \"Spain\", \"Date\": \"2020-02-11T23:00:00\", \"Infection\": 2}, {\"Country\": \"Germany\", \"Date\": \"2020-02-11T23:00:00\", \"Infection\": 16}, {\"Country\": \"Italy\", \"Date\": \"2020-02-11T23:00:00\", \"Infection\": 3}, {\"Country\": \"France\", \"Date\": \"2020-02-12T23:00:00\", \"Infection\": 9}, {\"Country\": \"Denmark\", \"Date\": \"2020-02-12T23:00:00\", \"Infection\": 0}, {\"Country\": \"Spain\", \"Date\": \"2020-02-12T23:00:00\", \"Infection\": 2}, {\"Country\": \"Germany\", \"Date\": \"2020-02-12T23:00:00\", \"Infection\": 15}, {\"Country\": \"Italy\", \"Date\": \"2020-02-12T23:00:00\", \"Infection\": 3}, {\"Country\": \"France\", \"Date\": \"2020-02-13T23:00:00\", \"Infection\": 9}, {\"Country\": \"Denmark\", \"Date\": \"2020-02-13T23:00:00\", \"Infection\": 0}, {\"Country\": \"Spain\", \"Date\": \"2020-02-13T23:00:00\", \"Infection\": 2}, {\"Country\": \"Germany\", \"Date\": \"2020-02-13T23:00:00\", \"Infection\": 15}, {\"Country\": \"Italy\", \"Date\": \"2020-02-13T23:00:00\", \"Infection\": 3}, {\"Country\": \"France\", \"Date\": \"2020-02-14T23:00:00\", \"Infection\": 7}, {\"Country\": \"Denmark\", \"Date\": \"2020-02-14T23:00:00\", \"Infection\": 0}, {\"Country\": \"Spain\", \"Date\": \"2020-02-14T23:00:00\", \"Infection\": 0}, {\"Country\": \"Germany\", \"Date\": \"2020-02-14T23:00:00\", \"Infection\": 15}, {\"Country\": \"Italy\", \"Date\": \"2020-02-14T23:00:00\", \"Infection\": 3}, {\"Country\": \"France\", \"Date\": \"2020-02-15T23:00:00\", \"Infection\": 7}, {\"Country\": \"Denmark\", \"Date\": \"2020-02-15T23:00:00\", \"Infection\": 0}, {\"Country\": \"Spain\", \"Date\": \"2020-02-15T23:00:00\", \"Infection\": 0}, {\"Country\": \"Germany\", \"Date\": \"2020-02-15T23:00:00\", \"Infection\": 15}, {\"Country\": \"Italy\", \"Date\": \"2020-02-15T23:00:00\", \"Infection\": 3}, {\"Country\": \"France\", \"Date\": \"2020-02-16T23:00:00\", \"Infection\": 7}, {\"Country\": \"Denmark\", \"Date\": \"2020-02-16T23:00:00\", \"Infection\": 0}, {\"Country\": \"Spain\", \"Date\": \"2020-02-16T23:00:00\", \"Infection\": 0}, {\"Country\": \"Germany\", \"Date\": \"2020-02-16T23:00:00\", \"Infection\": 15}, {\"Country\": \"Italy\", \"Date\": \"2020-02-16T23:00:00\", \"Infection\": 3}, {\"Country\": \"France\", \"Date\": \"2020-02-17T23:00:00\", \"Infection\": 7}, {\"Country\": \"Denmark\", \"Date\": \"2020-02-17T23:00:00\", \"Infection\": 0}, {\"Country\": \"Spain\", \"Date\": \"2020-02-17T23:00:00\", \"Infection\": 0}, {\"Country\": \"Germany\", \"Date\": \"2020-02-17T23:00:00\", \"Infection\": 4}, {\"Country\": \"Italy\", \"Date\": \"2020-02-17T23:00:00\", \"Infection\": 3}, {\"Country\": \"France\", \"Date\": \"2020-02-18T23:00:00\", \"Infection\": 7}, {\"Country\": \"Denmark\", \"Date\": \"2020-02-18T23:00:00\", \"Infection\": 0}, {\"Country\": \"Spain\", \"Date\": \"2020-02-18T23:00:00\", \"Infection\": 0}, {\"Country\": \"Germany\", \"Date\": \"2020-02-18T23:00:00\", \"Infection\": 4}, {\"Country\": \"Italy\", \"Date\": \"2020-02-18T23:00:00\", \"Infection\": 3}, {\"Country\": \"France\", \"Date\": \"2020-02-19T23:00:00\", \"Infection\": 7}, {\"Country\": \"Denmark\", \"Date\": \"2020-02-19T23:00:00\", \"Infection\": 0}, {\"Country\": \"Spain\", \"Date\": \"2020-02-19T23:00:00\", \"Infection\": 0}, {\"Country\": \"Germany\", \"Date\": \"2020-02-19T23:00:00\", \"Infection\": 4}, {\"Country\": \"Italy\", \"Date\": \"2020-02-19T23:00:00\", \"Infection\": 3}, {\"Country\": \"France\", \"Date\": \"2020-02-20T23:00:00\", \"Infection\": 7}, {\"Country\": \"Denmark\", \"Date\": \"2020-02-20T23:00:00\", \"Infection\": 0}, {\"Country\": \"Spain\", \"Date\": \"2020-02-20T23:00:00\", \"Infection\": 0}, {\"Country\": \"Germany\", \"Date\": \"2020-02-20T23:00:00\", \"Infection\": 2}, {\"Country\": \"Italy\", \"Date\": \"2020-02-20T23:00:00\", \"Infection\": 19}, {\"Country\": \"France\", \"Date\": \"2020-02-21T23:00:00\", \"Infection\": 7}, {\"Country\": \"Denmark\", \"Date\": \"2020-02-21T23:00:00\", \"Infection\": 0}, {\"Country\": \"Spain\", \"Date\": \"2020-02-21T23:00:00\", \"Infection\": 0}, {\"Country\": \"Germany\", \"Date\": \"2020-02-21T23:00:00\", \"Infection\": 2}, {\"Country\": \"Italy\", \"Date\": \"2020-02-21T23:00:00\", \"Infection\": 59}, {\"Country\": \"France\", \"Date\": \"2020-02-22T23:00:00\", \"Infection\": 7}, {\"Country\": \"Denmark\", \"Date\": \"2020-02-22T23:00:00\", \"Infection\": 0}, {\"Country\": \"Spain\", \"Date\": \"2020-02-22T23:00:00\", \"Infection\": 0}, {\"Country\": \"Germany\", \"Date\": \"2020-02-22T23:00:00\", \"Infection\": 2}, {\"Country\": \"Italy\", \"Date\": \"2020-02-22T23:00:00\", \"Infection\": 150}, {\"Country\": \"France\", \"Date\": \"2020-02-23T23:00:00\", \"Infection\": 7}, {\"Country\": \"Denmark\", \"Date\": \"2020-02-23T23:00:00\", \"Infection\": 0}, {\"Country\": \"Spain\", \"Date\": \"2020-02-23T23:00:00\", \"Infection\": 0}, {\"Country\": \"Germany\", \"Date\": \"2020-02-23T23:00:00\", \"Infection\": 2}, {\"Country\": \"Italy\", \"Date\": \"2020-02-23T23:00:00\", \"Infection\": 221}, {\"Country\": \"France\", \"Date\": \"2020-02-24T23:00:00\", \"Infection\": 2}, {\"Country\": \"Denmark\", \"Date\": \"2020-02-24T23:00:00\", \"Infection\": 0}, {\"Country\": \"Spain\", \"Date\": \"2020-02-24T23:00:00\", \"Infection\": 4}, {\"Country\": \"Germany\", \"Date\": \"2020-02-24T23:00:00\", \"Infection\": 3}, {\"Country\": \"Italy\", \"Date\": \"2020-02-24T23:00:00\", \"Infection\": 311}, {\"Country\": \"France\", \"Date\": \"2020-02-25T23:00:00\", \"Infection\": 5}, {\"Country\": \"Denmark\", \"Date\": \"2020-02-25T23:00:00\", \"Infection\": 0}, {\"Country\": \"Spain\", \"Date\": \"2020-02-25T23:00:00\", \"Infection\": 11}, {\"Country\": \"Germany\", \"Date\": \"2020-02-25T23:00:00\", \"Infection\": 12}, {\"Country\": \"Italy\", \"Date\": \"2020-02-25T23:00:00\", \"Infection\": 438}, {\"Country\": \"France\", \"Date\": \"2020-02-26T23:00:00\", \"Infection\": 25}, {\"Country\": \"Denmark\", \"Date\": \"2020-02-26T23:00:00\", \"Infection\": 1}, {\"Country\": \"Spain\", \"Date\": \"2020-02-26T23:00:00\", \"Infection\": 13}, {\"Country\": \"Germany\", \"Date\": \"2020-02-26T23:00:00\", \"Infection\": 30}, {\"Country\": \"Italy\", \"Date\": \"2020-02-26T23:00:00\", \"Infection\": 593}, {\"Country\": \"France\", \"Date\": \"2020-02-27T23:00:00\", \"Infection\": 44}, {\"Country\": \"Denmark\", \"Date\": \"2020-02-27T23:00:00\", \"Infection\": 1}, {\"Country\": \"Spain\", \"Date\": \"2020-02-27T23:00:00\", \"Infection\": 30}, {\"Country\": \"Germany\", \"Date\": \"2020-02-27T23:00:00\", \"Infection\": 32}, {\"Country\": \"Italy\", \"Date\": \"2020-02-27T23:00:00\", \"Infection\": 821}, {\"Country\": \"France\", \"Date\": \"2020-02-28T23:00:00\", \"Infection\": 86}, {\"Country\": \"Denmark\", \"Date\": \"2020-02-28T23:00:00\", \"Infection\": 3}, {\"Country\": \"Spain\", \"Date\": \"2020-02-28T23:00:00\", \"Infection\": 43}, {\"Country\": \"Germany\", \"Date\": \"2020-02-28T23:00:00\", \"Infection\": 63}, {\"Country\": \"Italy\", \"Date\": \"2020-02-28T23:00:00\", \"Infection\": 1053}, {\"Country\": \"France\", \"Date\": \"2020-02-29T23:00:00\", \"Infection\": 116}, {\"Country\": \"Denmark\", \"Date\": \"2020-02-29T23:00:00\", \"Infection\": 4}, {\"Country\": \"Spain\", \"Date\": \"2020-02-29T23:00:00\", \"Infection\": 82}, {\"Country\": \"Germany\", \"Date\": \"2020-02-29T23:00:00\", \"Infection\": 114}, {\"Country\": \"Italy\", \"Date\": \"2020-02-29T23:00:00\", \"Infection\": 1577}, {\"Country\": \"France\", \"Date\": \"2020-03-01T23:00:00\", \"Infection\": 176}, {\"Country\": \"Denmark\", \"Date\": \"2020-03-01T23:00:00\", \"Infection\": 4}, {\"Country\": \"Spain\", \"Date\": \"2020-03-01T23:00:00\", \"Infection\": 118}, {\"Country\": \"Germany\", \"Date\": \"2020-03-01T23:00:00\", \"Infection\": 143}, {\"Country\": \"Italy\", \"Date\": \"2020-03-01T23:00:00\", \"Infection\": 1835}, {\"Country\": \"France\", \"Date\": \"2020-03-02T23:00:00\", \"Infection\": 188}, {\"Country\": \"Denmark\", \"Date\": \"2020-03-02T23:00:00\", \"Infection\": 6}, {\"Country\": \"Spain\", \"Date\": \"2020-03-02T23:00:00\", \"Infection\": 162}, {\"Country\": \"Germany\", \"Date\": \"2020-03-02T23:00:00\", \"Infection\": 180}, {\"Country\": \"Italy\", \"Date\": \"2020-03-02T23:00:00\", \"Infection\": 2263}, {\"Country\": \"France\", \"Date\": \"2020-03-03T23:00:00\", \"Infection\": 272}, {\"Country\": \"Denmark\", \"Date\": \"2020-03-03T23:00:00\", \"Infection\": 11}, {\"Country\": \"Spain\", \"Date\": \"2020-03-03T23:00:00\", \"Infection\": 218}, {\"Country\": \"Germany\", \"Date\": \"2020-03-03T23:00:00\", \"Infection\": 246}, {\"Country\": \"Italy\", \"Date\": \"2020-03-03T23:00:00\", \"Infection\": 2706}, {\"Country\": \"France\", \"Date\": \"2020-03-04T23:00:00\", \"Infection\": 362}, {\"Country\": \"Denmark\", \"Date\": \"2020-03-04T23:00:00\", \"Infection\": 11}, {\"Country\": \"Spain\", \"Date\": \"2020-03-04T23:00:00\", \"Infection\": 254}, {\"Country\": \"Germany\", \"Date\": \"2020-03-04T23:00:00\", \"Infection\": 466}, {\"Country\": \"Italy\", \"Date\": \"2020-03-04T23:00:00\", \"Infection\": 3296}, {\"Country\": \"France\", \"Date\": \"2020-03-05T23:00:00\", \"Infection\": 635}, {\"Country\": \"Denmark\", \"Date\": \"2020-03-05T23:00:00\", \"Infection\": 23}, {\"Country\": \"Spain\", \"Date\": \"2020-03-05T23:00:00\", \"Infection\": 393}, {\"Country\": \"Germany\", \"Date\": \"2020-03-05T23:00:00\", \"Infection\": 653}, {\"Country\": \"Italy\", \"Date\": \"2020-03-05T23:00:00\", \"Infection\": 3916}, {\"Country\": \"France\", \"Date\": \"2020-03-06T23:00:00\", \"Infection\": 929}, {\"Country\": \"Denmark\", \"Date\": \"2020-03-06T23:00:00\", \"Infection\": 23}, {\"Country\": \"Spain\", \"Date\": \"2020-03-06T23:00:00\", \"Infection\": 460}, {\"Country\": \"Germany\", \"Date\": \"2020-03-06T23:00:00\", \"Infection\": 781}, {\"Country\": \"Italy\", \"Date\": \"2020-03-06T23:00:00\", \"Infection\": 5061}, {\"Country\": \"France\", \"Date\": \"2020-03-07T23:00:00\", \"Infection\": 1098}, {\"Country\": \"Denmark\", \"Date\": \"2020-03-07T23:00:00\", \"Infection\": 36}, {\"Country\": \"Spain\", \"Date\": \"2020-03-07T23:00:00\", \"Infection\": 626}, {\"Country\": \"Germany\", \"Date\": \"2020-03-07T23:00:00\", \"Infection\": 1022}, {\"Country\": \"Italy\", \"Date\": \"2020-03-07T23:00:00\", \"Infection\": 6387}, {\"Country\": \"France\", \"Date\": \"2020-03-08T23:00:00\", \"Infection\": 1181}, {\"Country\": \"Denmark\", \"Date\": \"2020-03-08T23:00:00\", \"Infection\": 91}, {\"Country\": \"Spain\", \"Date\": \"2020-03-08T23:00:00\", \"Infection\": 1013}, {\"Country\": \"Germany\", \"Date\": \"2020-03-08T23:00:00\", \"Infection\": 1156}, {\"Country\": \"Italy\", \"Date\": \"2020-03-08T23:00:00\", \"Infection\": 7985}, {\"Country\": \"France\", \"Date\": \"2020-03-09T23:00:00\", \"Infection\": 1742}, {\"Country\": \"Denmark\", \"Date\": \"2020-03-09T23:00:00\", \"Infection\": 263}, {\"Country\": \"Spain\", \"Date\": \"2020-03-09T23:00:00\", \"Infection\": 1628}, {\"Country\": \"Germany\", \"Date\": \"2020-03-09T23:00:00\", \"Infection\": 1437}, {\"Country\": \"Italy\", \"Date\": \"2020-03-09T23:00:00\", \"Infection\": 8794}, {\"Country\": \"France\", \"Date\": \"2020-03-10T23:00:00\", \"Infection\": 2224}, {\"Country\": \"Denmark\", \"Date\": \"2020-03-10T23:00:00\", \"Infection\": 443}, {\"Country\": \"Spain\", \"Date\": \"2020-03-10T23:00:00\", \"Infection\": 2040}, {\"Country\": \"Germany\", \"Date\": \"2020-03-10T23:00:00\", \"Infection\": 1880}, {\"Country\": \"Italy\", \"Date\": \"2020-03-10T23:00:00\", \"Infection\": 10590}], \"data-791298f0745defea4b96edb921857d11\": [{\"Country\": \"Denmark\", \"Date\": \"2020-03-08T23:00:00\", \"Infection\": 91, \"text\": \"first school is closed. Public transport is encouraged not to be used, especially in rush hours.\"}]}}, {\"mode\": \"vega-lite\"});\n",
       "</script>"
      ],
      "text/plain": [
       "alt.LayerChart(...)"
      ]
     },
     "execution_count": 59,
     "metadata": {},
     "output_type": "execute_result"
    }
   ],
   "source": [
    "okay+points"
   ]
  },
  {
   "cell_type": "code",
   "execution_count": null,
   "metadata": {},
   "outputs": [],
   "source": []
  }
 ],
 "metadata": {
  "kernelspec": {
   "display_name": "Python 3",
   "language": "python",
   "name": "python3"
  },
  "language_info": {
   "codemirror_mode": {
    "name": "ipython",
    "version": 3
   },
   "file_extension": ".py",
   "mimetype": "text/x-python",
   "name": "python",
   "nbconvert_exporter": "python",
   "pygments_lexer": "ipython3",
   "version": "3.7.4"
  }
 },
 "nbformat": 4,
 "nbformat_minor": 4
}
