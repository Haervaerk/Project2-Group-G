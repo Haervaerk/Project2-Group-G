{
 "cells": [
  {
   "cell_type": "code",
   "execution_count": 333,
   "metadata": {},
   "outputs": [],
   "source": [
    "import altair as alt\n",
    "import pandas as pd\n",
    "import numpy as np\n",
    "\n",
    "source = pd.read_csv('Currently_infected_cumu.tsv', sep='\\t')\n",
    "source = source.rename(columns={\"Unnamed: 0\": \"Country/Region\"})\n",
    "\n",
    "Spa = source[\"Country/Region\"] == \"Spain\"\n",
    "Dkk = source[\"Country/Region\"] == \"Denmark\"\n",
    "Fra = source[\"Country/Region\"] == \"France\"\n",
    "Ger = source[\"Country/Region\"] == \"Germany\"\n",
    "Ita = source[\"Country/Region\"] == \"Italy\"\n",
    "\n",
    "hue = Spa | Dkk | Fra | Ger | Ita\n",
    "\n",
    "df = source[hue]"
   ]
  },
  {
   "cell_type": "code",
   "execution_count": 334,
   "metadata": {},
   "outputs": [],
   "source": [
    "new_frame = pd.DataFrame(columns= [\"Country\", \"Date\", \"Infection\"])\n"
   ]
  },
  {
   "cell_type": "code",
   "execution_count": 335,
   "metadata": {},
   "outputs": [],
   "source": [
    "date_maker = pd.read_csv('infected.tsv', sep='\\t')\n"
   ]
  },
  {
   "cell_type": "code",
   "execution_count": 336,
   "metadata": {},
   "outputs": [],
   "source": [
    "days = list(date_maker[1:1])[4:]"
   ]
  },
  {
   "cell_type": "code",
   "execution_count": 337,
   "metadata": {},
   "outputs": [],
   "source": [
    "#source[Fra].values[0][1:]\n",
    "#days"
   ]
  },
  {
   "cell_type": "code",
   "execution_count": 338,
   "metadata": {},
   "outputs": [],
   "source": [
    "import time \n",
    "import datetime \n",
    "\n",
    "count = 0\n",
    "for i in range(20, len(days)):\n",
    "    date_today = pd.Timestamp(time.mktime(datetime.datetime.strptime(days[i], \n",
    "                                             \"%m/%d/%Y\").timetuple()), unit='s')\n",
    "    new_frame.loc[count] = ['France', date_today, source[Fra].values[0][1:][i]]\n",
    "    count += 1\n",
    "    new_frame.loc[count] = ['Denmark', date_today, source[Dkk].values[0][1:][i]]\n",
    "    count += 1\n",
    "    new_frame.loc[count] = ['Spain', date_today, source[Spa].values[0][1:][i]]\n",
    "    count += 1\n",
    "    new_frame.loc[count] = ['Germany', date_today, source[Ger].values[0][1:][i]]\n",
    "    count += 1\n",
    "    new_frame.loc[count] = ['Italy', date_today, source[Ita].values[0][1:][i]]\n",
    "    count += 1"
   ]
  },
  {
   "cell_type": "code",
   "execution_count": 512,
   "metadata": {},
   "outputs": [],
   "source": [
    "#new_frame"
   ]
  },
  {
   "cell_type": "code",
   "execution_count": 340,
   "metadata": {},
   "outputs": [],
   "source": [
    "#Create dataframe with the points we want hoveracntion on\n",
    "hover_frame = pd.DataFrame(columns= [\"Country\", \"Date\", \"Infection\", \"Text\"])\n"
   ]
  },
  {
   "cell_type": "code",
   "execution_count": 341,
   "metadata": {},
   "outputs": [],
   "source": [
    "yikes = list(date_maker[1:1])\n",
    "#yikes.index(\"3/9/2020\") - 4\n",
    "#source[Dkk].values[0][1:][yikes.index(\"3/9/2020\")-5]\n"
   ]
  },
  {
   "cell_type": "code",
   "execution_count": 342,
   "metadata": {},
   "outputs": [],
   "source": [
    "#Denmark [0,1,2,3,4]\n",
    "hover_frame.loc[0] = ['Denmark', pd.Timestamp(time.mktime(\n",
    "                        datetime.datetime.strptime(\"3/9/2020\",\"%m/%d/%Y\").timetuple()), unit='s')\n",
    "                        ,source[Dkk].values[0][1:][yikes.index(\"3/9/2020\")-4], \n",
    "                      \"first school is closed. Public transport is encouraged not to be used, especially in rush hours.\"]\n",
    "hover_frame.loc[1] = ['Denmark', pd.Timestamp(time.mktime(\n",
    "                        datetime.datetime.strptime(\"3/11/2020\",\"%m/%d/%Y\").timetuple()), unit='s')\n",
    "                        ,source[Dkk].values[0][1:][yikes.index(\"3/11/2020\")-4], \n",
    "                      \"Everyone is recommended to stay home. Schools are announced to shutdown from March 13th. Same applies for people working non essential jobs in public sectors.\"]\n",
    "\n",
    "hover_frame.loc[2] = ['Denmark', pd.Timestamp(time.mktime(\n",
    "                        datetime.datetime.strptime(\"3/14/2020\",\"%m/%d/%Y\").timetuple()), unit='s')\n",
    "                        ,source[Dkk].values[0][1:][yikes.index(\"3/14/2020\")-4], \n",
    "                      \"Borders are closing for people who don’t have a valid purpose of entry.\"]\n",
    "\n"
   ]
  },
  {
   "cell_type": "code",
   "execution_count": 343,
   "metadata": {},
   "outputs": [],
   "source": [
    "#Germany [5,6,7,8,9]\n",
    "hover_frame.loc[5] = ['Germany', pd.Timestamp(time.mktime(\n",
    "                        datetime.datetime.strptime(\"2/26/2020\",\"%m/%d/%Y\").timetuple()), unit='s')\n",
    "                        ,source[Ger].values[0][1:][yikes.index(\"2/26/2020\")-4], \"Several schools and public places were closed in the region of North Rhine-Westphalia, until 2 March. Several other public events are also cancelled.\"]\n",
    "hover_frame.loc[6] = ['Germany', pd.Timestamp(time.mktime(\n",
    "                        datetime.datetime.strptime(\"3/2/2020\",\"%m/%d/%Y\").timetuple()), unit='s')\n",
    "                        ,source[Ger].values[0][1:][yikes.index(\"3/2/2020\")-4], \"the ‘Robert Koch Institute’ raised its threat level for Germany to 'moderate' and the European Centre for Disease Prevention and Control raised its threat level for Europe from 'moderate' to 'high'\"]\n",
    "\n",
    "hover_frame.loc[7] = ['Germany', pd.Timestamp(time.mktime(\n",
    "                        datetime.datetime.strptime(\"3/10/2020\",\"%m/%d/%Y\").timetuple()), unit='s')\n",
    "                        ,source[Ger].values[0][1:][yikes.index(\"3/10/2020\")-4], \"A general ban on events with more than 1,000 participants put into immediate effect by several federal states, Germany's Ice Hockey league’ 2019/2020 season cancelled immediately, Several matches of the football leagues, including all Bundesliga matches of matchday 26, were announced to be played behind closed doors. It was later confirmed on 13 March that all Bundesliga and 2. Bundesliga matches would be postponed until at least 2 April.\"]\n"
   ]
  },
  {
   "cell_type": "code",
   "execution_count": 344,
   "metadata": {},
   "outputs": [],
   "source": [
    "#Italy [10,11,12,13,14]\n",
    "hover_frame.loc[10] = ['Italy', pd.Timestamp(time.mktime(\n",
    "                        datetime.datetime.strptime(\"2/22/2020\",\"%m/%d/%Y\").timetuple()), unit='s')\n",
    "                        ,source[Ita].values[0][1:][yikes.index(\"2/22/2020\")-4], \"the government announced a new decree imposing the quarantine of more than 50,000 people from 11 different municipalities in Northern Italy. Schools were closed in ten municipalities in Lombardy, one in Veneto and one in Emilia Romagna. All public events were cancelled and some commercial activities.\"]\n",
    "\n",
    "hover_frame.loc[11] = ['Italy', pd.Timestamp(time.mktime(\n",
    "                        datetime.datetime.strptime(\"3/1/2020\",\"%m/%d/%Y\").timetuple()), unit='s')\n",
    "                        ,source[Ita].values[0][1:][yikes.index(\"3/1/2020\")-4], \"the Council of Ministers approved a decree to organise the containment of the outbreak: A red zone, where the whole population is in quarantine. A yellow zone, where social and sport events are suspended and schools, theatres, clubs and cinemas are closed.\"]\n",
    "\n",
    "hover_frame.loc[12] = ['Italy', pd.Timestamp(time.mktime(\n",
    "                        datetime.datetime.strptime(\"3/10/2020\",\"%m/%d/%Y\").timetuple()), unit='s')\n",
    "                        ,source[Ita].values[0][1:][yikes.index(\"3/10/2020\")-4], \"Prime Minister Conte increased the quarantine lockdown to cover all of Italy, including travel restrictions and a ban on public gatherings\"]\n"
   ]
  },
  {
   "cell_type": "code",
   "execution_count": 345,
   "metadata": {},
   "outputs": [],
   "source": [
    "#France [15,16,17,18,19]\n",
    "hover_frame.loc[15] = ['France', pd.Timestamp(time.mktime(\n",
    "                        datetime.datetime.strptime(\"3/12/2020\",\"%m/%d/%Y\").timetuple()), unit='s')\n",
    "                        ,source[Fra].values[0][1:][yikes.index(\"3/12/2020\")-4], \n",
    "                      \"President announced that all schools and all universities would close from Monday\"]\n",
    "\n",
    "hover_frame.loc[16] = ['France', pd.Timestamp(time.mktime(\n",
    "                        datetime.datetime.strptime(\"3/13/2020\",\"%m/%d/%Y\").timetuple()), unit='s')\n",
    "                        ,source[Fra].values[0][1:][yikes.index(\"3/13/2020\")-4], \n",
    "                      \"Prime minister banned gatherings of more than 100 people, not including public transportation.\"]\n"
   ]
  },
  {
   "cell_type": "code",
   "execution_count": 346,
   "metadata": {},
   "outputs": [],
   "source": [
    "#Spain [20,21,22,23,24]\n",
    "hover_frame.loc[20] = ['Spain', pd.Timestamp(time.mktime(\n",
    "                        datetime.datetime.strptime(\"3/9/2020\",\"%m/%d/%Y\").timetuple()), unit='s')\n",
    "                        ,source[Spa].values[0][1:][yikes.index(\"3/9/2020\")-4], \n",
    "                      \"The president of Madrid announces the cancellation of classes in the city at all educational levels.\"]\n",
    "hover_frame.loc[21] = ['Spain', pd.Timestamp(time.mktime(\n",
    "                        datetime.datetime.strptime(\"3/13/2020\",\"%m/%d/%Y\").timetuple()), unit='s')\n",
    "                        ,source[Spa].values[0][1:][yikes.index(\"3/13/2020\")-4], \n",
    "                      \"Prime Minister announces the declaration of the state of emergency in the nation for a period of 15 days\"]\n",
    "hover_frame.loc[22] = ['Spain', pd.Timestamp(time.mktime(\n",
    "                        datetime.datetime.strptime(\"3/10/2020\",\"%m/%d/%Y\").timetuple()), unit='s')\n",
    "                        ,source[Spa].values[0][1:][yikes.index(\"3/10/2020\")-4], \n",
    "                      \"Spanish Government suspends events with more than one thousand attendants in many regions.\"]\n",
    "\n",
    "\n",
    "\n"
   ]
  },
  {
   "cell_type": "code",
   "execution_count": 511,
   "metadata": {},
   "outputs": [],
   "source": [
    "#hover_frame"
   ]
  },
  {
   "cell_type": "code",
   "execution_count": 507,
   "metadata": {},
   "outputs": [],
   "source": [
    "import altair as alt\n",
    "\n",
    "okay = alt.Chart(new_frame,width=800, height=600).mark_line().encode(\n",
    "    x='Date',\n",
    "    y='Infection',\n",
    "    size=alt.value(3),\n",
    "    color = \"Country\"\n",
    ")#.interactive()"
   ]
  },
  {
   "cell_type": "code",
   "execution_count": 508,
   "metadata": {},
   "outputs": [],
   "source": [
    "#start = time.mktime(datetime.datetime.strptime(\"1/21/2020\",\"%m/%d/%Y\").timetuple())\n",
    "#stop = time.mktime(datetime.datetime.strptime(\"3/15/2020\",\"%m/%d/%Y\").timetuple())"
   ]
  },
  {
   "cell_type": "code",
   "execution_count": 509,
   "metadata": {},
   "outputs": [],
   "source": [
    "#maximum = max(list(df[df.columns[-1]]))*1.2"
   ]
  },
  {
   "cell_type": "code",
   "execution_count": 510,
   "metadata": {},
   "outputs": [],
   "source": [
    "points_ts = alt.Chart(hover_frame).mark_circle(size=80).encode(\n",
    "    x='Date',\n",
    "    y='Infection',\n",
    "    color = \"Country\",\n",
    "    tooltip= [\"Country\", \"Date\", \"Infection\", \"Text\"]\n",
    ")#.interactive()\n",
    "\n",
    "hue = alt.layer(points_ts,okay).interactive()\n",
    "hue.save(\"chart.html\")"
   ]
  },
  {
   "cell_type": "code",
   "execution_count": null,
   "metadata": {},
   "outputs": [],
   "source": []
  },
  {
   "cell_type": "code",
   "execution_count": null,
   "metadata": {},
   "outputs": [],
   "source": []
  }
 ],
 "metadata": {
  "kernelspec": {
   "display_name": "Python 3",
   "language": "python",
   "name": "python3"
  },
  "language_info": {
   "codemirror_mode": {
    "name": "ipython",
    "version": 3
   },
   "file_extension": ".py",
   "mimetype": "text/x-python",
   "name": "python",
   "nbconvert_exporter": "python",
   "pygments_lexer": "ipython3",
   "version": "3.7.4"
  }
 },
 "nbformat": 4,
 "nbformat_minor": 4
}
