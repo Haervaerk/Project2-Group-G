{
 "cells": [
  {
   "cell_type": "code",
   "execution_count": 167,
   "metadata": {},
   "outputs": [],
   "source": [
    "import altair as alt\n",
    "import pandas as pd\n",
    "import numpy as np\n",
    "\n",
    "source = pd.read_csv('Currently_infected_cumu.tsv', sep='\\t')\n",
    "source = source.rename(columns={\"Unnamed: 0\": \"Country/Region\"})\n",
    "\n",
    "Spa = source[\"Country/Region\"] == \"Spain\"\n",
    "Dkk = source[\"Country/Region\"] == \"Denmark\"\n",
    "Fra = source[\"Country/Region\"] == \"France\"\n",
    "Ger = source[\"Country/Region\"] == \"Germany\"\n",
    "Ita = source[\"Country/Region\"] == \"Italy\"\n",
    "\n",
    "hue = Spa | Dkk | Fra | Ger | Ita\n",
    "\n",
    "df = source[hue]"
   ]
  },
  {
   "cell_type": "code",
   "execution_count": 168,
   "metadata": {},
   "outputs": [],
   "source": [
    "new_frame = pd.DataFrame(columns= [\"Country\", \"Date\", \"Infection\"])\n"
   ]
  },
  {
   "cell_type": "code",
   "execution_count": 169,
   "metadata": {},
   "outputs": [],
   "source": [
    "date_maker = pd.read_csv('infected.tsv', sep='\\t')\n"
   ]
  },
  {
   "cell_type": "code",
   "execution_count": 170,
   "metadata": {},
   "outputs": [],
   "source": [
    "days = list(date_maker[1:1])[4:]"
   ]
  },
  {
   "cell_type": "code",
   "execution_count": 171,
   "metadata": {},
   "outputs": [],
   "source": [
    "#days"
   ]
  },
  {
   "cell_type": "code",
   "execution_count": 172,
   "metadata": {},
   "outputs": [],
   "source": [
    "import time \n",
    "import datetime \n",
    "\n",
    "count = 0\n",
    "for i in range(30, len(days)):\n",
    "    date_today = days[i]                        \n",
    "    new_frame.loc[count] = ['France', date_today, source[Fra].values[0][1:][i]]\n",
    "    count += 1\n",
    "    new_frame.loc[count] = ['Denmark', date_today, source[Dkk].values[0][1:][i]]\n",
    "    count += 1\n",
    "    new_frame.loc[count] = ['Spain', date_today, source[Spa].values[0][1:][i]]\n",
    "    count += 1\n",
    "    new_frame.loc[count] = ['Germany', date_today, source[Ger].values[0][1:][i]]\n",
    "    count += 1\n",
    "    new_frame.loc[count] = ['Italy', date_today, source[Ita].values[0][1:][i]]\n",
    "    count += 1"
   ]
  },
  {
   "cell_type": "code",
   "execution_count": 173,
   "metadata": {},
   "outputs": [
    {
     "data": {
      "text/plain": [
       "0"
      ]
     },
     "execution_count": 173,
     "metadata": {},
     "output_type": "execute_result"
    }
   ],
   "source": [
    "#new_frame\n",
    "source[Fra].values[0][1:][0]"
   ]
  },
  {
   "cell_type": "code",
   "execution_count": 174,
   "metadata": {},
   "outputs": [],
   "source": [
    "#Create dataframe with the points we want hoveracntion on\n",
    "hover_frame = pd.DataFrame(columns= [\"Country\", \"Date\", \"Infection\", \"Text\"])\n"
   ]
  },
  {
   "cell_type": "code",
   "execution_count": 175,
   "metadata": {},
   "outputs": [],
   "source": [
    "yikes = list(date_maker[1:1])\n",
    "#yikes.index(\"3/9/2020\") - 4\n",
    "#source[Dkk].values[0][1:][yikes.index(\"3/9/2020\")-5]\n"
   ]
  },
  {
   "cell_type": "code",
   "execution_count": 176,
   "metadata": {},
   "outputs": [],
   "source": [
    "#Denmark [0,1,2,3,4]\n",
    "hover_frame.loc[0] = ['Denmark', \"3/9/2020\"\n",
    "                        ,source[Dkk].values[0][1:][yikes.index(\"3/9/2020\")-4], \n",
    "                      \"first school is closed. Public transport is encouraged not to be used, especially in rush hours.\"]\n",
    "hover_frame.loc[1] = ['Denmark', \"3/11/2020\"\n",
    "                        ,source[Dkk].values[0][1:][yikes.index(\"3/11/2020\")-4], \n",
    "                      \"Everyone is recommended to stay home. Schools are announced to shutdown from March 13th. Same applies for people working non essential jobs in public sectors.\"]\n",
    "\n",
    "hover_frame.loc[2] = ['Denmark', \"3/14/2020\"\n",
    "                        ,source[Dkk].values[0][1:][yikes.index(\"3/14/2020\")-4], \n",
    "                      \"Borders are closing for people who don’t have a valid purpose of entry.\"]\n",
    "\n"
   ]
  },
  {
   "cell_type": "code",
   "execution_count": 177,
   "metadata": {},
   "outputs": [],
   "source": [
    "#Germany [5,6,7,8,9]\n",
    "hover_frame.loc[5] = ['Germany', \"2/26/2020\"\n",
    "                        ,source[Ger].values[0][1:][yikes.index(\"2/26/2020\")-4], \"Several schools and public places were closed in the region of North Rhine-Westphalia, until 2 March. Several other public events are also cancelled.\"]\n",
    "hover_frame.loc[6] = ['Germany',\"3/2/2020\"\n",
    "                        ,source[Ger].values[0][1:][yikes.index(\"3/2/2020\")-4], \"the ‘Robert Koch Institute’ raised its threat level for Germany to 'moderate' and the European Centre for Disease Prevention and Control raised its threat level for Europe from 'moderate' to 'high'\"]\n",
    "\n",
    "hover_frame.loc[7] = ['Germany', \"3/10/2020\"\n",
    "                        ,source[Ger].values[0][1:][yikes.index(\"3/10/2020\")-4], \"A general ban on events with more than 1,000 participants put into immediate effect by several federal states, Germany's Ice Hockey league’ 2019/2020 season cancelled immediately, Several matches of the football leagues, including all Bundesliga matches of matchday 26, were announced to be played behind closed doors. It was later confirmed on 13 March that all Bundesliga and 2. Bundesliga matches would be postponed until at least 2 April.\"]\n"
   ]
  },
  {
   "cell_type": "code",
   "execution_count": 178,
   "metadata": {},
   "outputs": [],
   "source": [
    "#Italy [10,11,12,13,14]\n",
    "hover_frame.loc[10] = ['Italy', \"2/22/2020\"\n",
    "                        ,source[Ita].values[0][1:][yikes.index(\"2/22/2020\")-4], \"the government announced a new decree imposing the quarantine of more than 50,000 people from 11 different municipalities in Northern Italy. Schools were closed in ten municipalities in Lombardy, one in Veneto and one in Emilia Romagna. All public events were cancelled and some commercial activities.\"]\n",
    "\n",
    "hover_frame.loc[11] = ['Italy', \"3/1/2020\"\n",
    "                        ,source[Ita].values[0][1:][yikes.index(\"3/1/2020\")-4], \"the Council of Ministers approved a decree to organise the containment of the outbreak: A red zone, where the whole population is in quarantine. A yellow zone, where social and sport events are suspended and schools, theatres, clubs and cinemas are closed.\"]\n",
    "\n",
    "hover_frame.loc[12] = ['Italy', \"3/10/2020\"\n",
    "                        ,source[Ita].values[0][1:][yikes.index(\"3/10/2020\")-4], \"Prime Minister Conte increased the quarantine lockdown to cover all of Italy, including travel restrictions and a ban on public gatherings\"]\n"
   ]
  },
  {
   "cell_type": "code",
   "execution_count": 179,
   "metadata": {},
   "outputs": [],
   "source": [
    "#France [15,16,17,18,19]\n",
    "hover_frame.loc[15] = ['France', \"3/12/2020\"\n",
    "                        ,source[Fra].values[0][1:][yikes.index(\"3/12/2020\")-4], \n",
    "                      \"President announced that all schools and all universities would close from Monday\"]\n",
    "\n",
    "hover_frame.loc[16] = ['France', \"3/13/2020\"\n",
    "                        ,source[Fra].values[0][1:][yikes.index(\"3/13/2020\")-4], \n",
    "                      \"Prime minister banned gatherings of more than 100 people, not including public transportation.\"]\n"
   ]
  },
  {
   "cell_type": "code",
   "execution_count": 180,
   "metadata": {},
   "outputs": [],
   "source": [
    "#Spain [20,21,22,23,24]\n",
    "hover_frame.loc[20] = ['Spain', \"3/9/2020\"\n",
    "                        ,source[Spa].values[0][1:][yikes.index(\"3/9/2020\")-4], \n",
    "                      \"The president of Madrid announces the cancellation of classes in the city at all educational levels.\"]\n",
    "hover_frame.loc[21] = ['Spain', \"3/13/2020\"\n",
    "                        ,source[Spa].values[0][1:][yikes.index(\"3/13/2020\")-4], \n",
    "                      \"Prime Minister announces the declaration of the state of emergency in the nation for a period of 15 days\"]\n",
    "hover_frame.loc[22] = ['Spain', \"3/10/2020\"\n",
    "                        ,source[Spa].values[0][1:][yikes.index(\"3/10/2020\")-4], \n",
    "                      \"Spanish Government suspends events with more than one thousand attendants in many regions.\"]\n",
    "\n",
    "\n",
    "\n"
   ]
  },
  {
   "cell_type": "code",
   "execution_count": 181,
   "metadata": {},
   "outputs": [],
   "source": [
    "#hover_frame"
   ]
  },
  {
   "cell_type": "code",
   "execution_count": 182,
   "metadata": {},
   "outputs": [],
   "source": [
    "#start = time.mktime(datetime.datetime.strptime(\"1/21/2020\",\"%m/%d/%Y\").timetuple())\n",
    "#stop = time.mktime(datetime.datetime.strptime(\"3/15/2020\",\"%m/%d/%Y\").timetuple())"
   ]
  },
  {
   "cell_type": "code",
   "execution_count": 183,
   "metadata": {},
   "outputs": [],
   "source": [
    "selection = alt.selection_multi(fields=['Country'])"
   ]
  },
  {
   "cell_type": "code",
   "execution_count": 184,
   "metadata": {},
   "outputs": [],
   "source": [
    "size_h = alt.condition(selection,\n",
    "                      alt.value(4),\n",
    "                      alt.value(0))"
   ]
  },
  {
   "cell_type": "code",
   "execution_count": 185,
   "metadata": {},
   "outputs": [],
   "source": [
    "size_hover = alt.condition(selection,\n",
    "                      alt.value(160),\n",
    "                      alt.value(0))"
   ]
  },
  {
   "cell_type": "code",
   "execution_count": 186,
   "metadata": {},
   "outputs": [],
   "source": [
    "scale=alt.Scale(\n",
    "            domain=['Spain', 'France',\"Germany\", \"Italy\", \"Denmark\"],\n",
    "            range=['yellow', 'blue', \"red\", \"green\", \"pink\"])"
   ]
  },
  {
   "cell_type": "code",
   "execution_count": 187,
   "metadata": {},
   "outputs": [],
   "source": [
    "color = alt.condition(selection,\n",
    "                      alt.Color('Country:O', legend=None, \n",
    "                      scale=alt.Scale(\n",
    "            domain=['Spain', 'France',\"Germany\", \"Italy\", \"Denmark\"],\n",
    "            range=['#B6BA18', '#003459', \"crimson\", \"green\", \"#F18F01\"])),\n",
    "                      alt.value('lightgray'))"
   ]
  },
  {
   "cell_type": "code",
   "execution_count": 339,
   "metadata": {},
   "outputs": [],
   "source": [
    "import altair as alt\n",
    "\n",
    "okay = alt.Chart(new_frame,width=800, height=600).mark_line().encode(\n",
    "    x='monthdate(Date):T',\n",
    "    y = alt.Y(\"Infection\", axis=alt.Axis(title = \"\", orient = \"right\",labelFontSize = 13)),\n",
    "    size=size_h,\n",
    "    color = color\n",
    ")"
   ]
  },
  {
   "cell_type": "code",
   "execution_count": 340,
   "metadata": {},
   "outputs": [
    {
     "data": {
      "text/html": [
       "\n",
       "<div id=\"altair-viz-32183dcd9fb74657a291b25e5c03cc01\"></div>\n",
       "<script type=\"text/javascript\">\n",
       "  (function(spec, embedOpt){\n",
       "    const outputDiv = document.getElementById(\"altair-viz-32183dcd9fb74657a291b25e5c03cc01\");\n",
       "    const paths = {\n",
       "      \"vega\": \"https://cdn.jsdelivr.net/npm//vega@5?noext\",\n",
       "      \"vega-lib\": \"https://cdn.jsdelivr.net/npm//vega-lib?noext\",\n",
       "      \"vega-lite\": \"https://cdn.jsdelivr.net/npm//vega-lite@4.0.2?noext\",\n",
       "      \"vega-embed\": \"https://cdn.jsdelivr.net/npm//vega-embed@6?noext\",\n",
       "    };\n",
       "\n",
       "    function loadScript(lib) {\n",
       "      return new Promise(function(resolve, reject) {\n",
       "        var s = document.createElement('script');\n",
       "        s.src = paths[lib];\n",
       "        s.async = true;\n",
       "        s.onload = () => resolve(paths[lib]);\n",
       "        s.onerror = () => reject(`Error loading script: ${paths[lib]}`);\n",
       "        document.getElementsByTagName(\"head\")[0].appendChild(s);\n",
       "      });\n",
       "    }\n",
       "\n",
       "    function showError(err) {\n",
       "      outputDiv.innerHTML = `<div class=\"error\" style=\"color:red;\">${err}</div>`;\n",
       "      throw err;\n",
       "    }\n",
       "\n",
       "    function displayChart(vegaEmbed) {\n",
       "      vegaEmbed(outputDiv, spec, embedOpt)\n",
       "        .catch(err => showError(`Javascript Error: ${err.message}<br>This usually means there's a typo in your chart specification. See the javascript console for the full traceback.`));\n",
       "    }\n",
       "\n",
       "    if(typeof define === \"function\" && define.amd) {\n",
       "      requirejs.config({paths});\n",
       "      require([\"vega-embed\"], displayChart, err => showError(`Error loading script: ${err.message}`));\n",
       "    } else if (typeof vegaEmbed === \"function\") {\n",
       "      displayChart(vegaEmbed);\n",
       "    } else {\n",
       "      loadScript(\"vega\")\n",
       "        .then(() => loadScript(\"vega-lite\"))\n",
       "        .then(() => loadScript(\"vega-embed\"))\n",
       "        .catch(showError)\n",
       "        .then(() => displayChart(vegaEmbed));\n",
       "    }\n",
       "  })({\"config\": {\"view\": {\"continuousWidth\": 400, \"continuousHeight\": 300}}, \"data\": {\"name\": \"data-510e1ba354c138a54b173a2b409bb71a\"}, \"mark\": {\"type\": \"point\", \"filled\": true, \"size\": 300}, \"encoding\": {\"color\": {\"condition\": {\"type\": \"ordinal\", \"field\": \"Country\", \"legend\": null, \"scale\": {\"domain\": [\"Spain\", \"France\", \"Germany\", \"Italy\", \"Denmark\"], \"range\": [\"#B6BA18\", \"#003459\", \"crimson\", \"green\", \"#F18F01\"]}, \"selection\": \"selector004\"}, \"value\": \"lightgray\"}, \"y\": {\"type\": \"nominal\", \"axis\": {\"labelFontSize\": 16, \"orient\": \"right\", \"title\": \"\"}, \"field\": \"Country\"}}, \"height\": 140, \"selection\": {\"selector004\": {\"type\": \"multi\", \"fields\": [\"Country\"]}}, \"width\": 40, \"$schema\": \"https://vega.github.io/schema/vega-lite/v4.0.2.json\", \"datasets\": {\"data-510e1ba354c138a54b173a2b409bb71a\": [{\"Country\": \"Denmark\", \"Date\": \"3/9/2020\", \"Infection\": 91, \"Text\": \"first school is closed. Public transport is encouraged not to be used, especially in rush hours.\"}, {\"Country\": \"Denmark\", \"Date\": \"3/11/2020\", \"Infection\": 443, \"Text\": \"Everyone is recommended to stay home. Schools are announced to shutdown from March 13th. Same applies for people working non essential jobs in public sectors.\"}, {\"Country\": \"Denmark\", \"Date\": \"3/14/2020\", \"Infection\": 834, \"Text\": \"Borders are closing for people who don\\u2019t have a valid purpose of entry.\"}, {\"Country\": \"Germany\", \"Date\": \"2/26/2020\", \"Infection\": 12, \"Text\": \"Several schools and public places were closed in the region of North Rhine-Westphalia, until 2 March. Several other public events are also cancelled.\"}, {\"Country\": \"Germany\", \"Date\": \"3/2/2020\", \"Infection\": 143, \"Text\": \"the \\u2018Robert Koch Institute\\u2019 raised its threat level for Germany to 'moderate' and the European Centre for Disease Prevention and Control raised its threat level for Europe from 'moderate' to 'high'\"}, {\"Country\": \"Germany\", \"Date\": \"3/10/2020\", \"Infection\": 1437, \"Text\": \"A general ban on events with more than 1,000 participants put into immediate effect by several federal states, Germany's Ice Hockey league\\u2019 2019/2020 season cancelled immediately, Several matches of the football leagues, including all Bundesliga matches of matchday 26, were announced to be played behind closed doors. It was later confirmed on 13 March that all Bundesliga and 2. Bundesliga matches would be postponed until at least 2 April.\"}, {\"Country\": \"Italy\", \"Date\": \"2/22/2020\", \"Infection\": 59, \"Text\": \"the government announced a new decree imposing the quarantine of more than 50,000 people from 11 different municipalities in Northern Italy. Schools were closed in ten municipalities in Lombardy, one in Veneto and one in Emilia Romagna. All public events were cancelled and some commercial activities.\"}, {\"Country\": \"Italy\", \"Date\": \"3/1/2020\", \"Infection\": 1577, \"Text\": \"the Council of Ministers approved a decree to organise the containment of the outbreak: A red zone, where the whole population is in quarantine. A yellow zone, where social and sport events are suspended and schools, theatres, clubs and cinemas are closed.\"}, {\"Country\": \"Italy\", \"Date\": \"3/10/2020\", \"Infection\": 8794, \"Text\": \"Prime Minister Conte increased the quarantine lockdown to cover all of Italy, including travel restrictions and a ban on public gatherings\"}, {\"Country\": \"France\", \"Date\": \"3/12/2020\", \"Infection\": 2224, \"Text\": \"President announced that all schools and all universities would close from Monday\"}, {\"Country\": \"France\", \"Date\": \"3/13/2020\", \"Infection\": 3576, \"Text\": \"Prime minister banned gatherings of more than 100 people, not including public transportation.\"}, {\"Country\": \"Spain\", \"Date\": \"3/9/2020\", \"Infection\": 1013, \"Text\": \"The president of Madrid announces the cancellation of classes in the city at all educational levels.\"}, {\"Country\": \"Spain\", \"Date\": \"3/13/2020\", \"Infection\": 4906, \"Text\": \"Prime Minister announces the declaration of the state of emergency in the nation for a period of 15 days\"}, {\"Country\": \"Spain\", \"Date\": \"3/10/2020\", \"Infection\": 1628, \"Text\": \"Spanish Government suspends events with more than one thousand attendants in many regions.\"}]}}, {\"mode\": \"vega-lite\"});\n",
       "</script>"
      ],
      "text/plain": [
       "alt.Chart(...)"
      ]
     },
     "execution_count": 340,
     "metadata": {},
     "output_type": "execute_result"
    }
   ],
   "source": [
    "legend = alt.Chart(hover_frame\n",
    ").mark_point(filled=True, size=300\n",
    ").encode(\n",
    "    y=alt.Y('Country', axis=alt.Axis(orient='right', title = \"\", labelFontSize = 16)),\n",
    "    color=color,\n",
    ").add_selection(\n",
    "selection\n",
    ").properties(width = 40, height = 140)\n",
    "legend"
   ]
  },
  {
   "cell_type": "code",
   "execution_count": 342,
   "metadata": {},
   "outputs": [
    {
     "data": {
      "text/html": [
       "\n",
       "<div id=\"altair-viz-e2483a9ebf804da1b66acd8e61e5641e\"></div>\n",
       "<script type=\"text/javascript\">\n",
       "  (function(spec, embedOpt){\n",
       "    const outputDiv = document.getElementById(\"altair-viz-e2483a9ebf804da1b66acd8e61e5641e\");\n",
       "    const paths = {\n",
       "      \"vega\": \"https://cdn.jsdelivr.net/npm//vega@5?noext\",\n",
       "      \"vega-lib\": \"https://cdn.jsdelivr.net/npm//vega-lib?noext\",\n",
       "      \"vega-lite\": \"https://cdn.jsdelivr.net/npm//vega-lite@4.0.2?noext\",\n",
       "      \"vega-embed\": \"https://cdn.jsdelivr.net/npm//vega-embed@6?noext\",\n",
       "    };\n",
       "\n",
       "    function loadScript(lib) {\n",
       "      return new Promise(function(resolve, reject) {\n",
       "        var s = document.createElement('script');\n",
       "        s.src = paths[lib];\n",
       "        s.async = true;\n",
       "        s.onload = () => resolve(paths[lib]);\n",
       "        s.onerror = () => reject(`Error loading script: ${paths[lib]}`);\n",
       "        document.getElementsByTagName(\"head\")[0].appendChild(s);\n",
       "      });\n",
       "    }\n",
       "\n",
       "    function showError(err) {\n",
       "      outputDiv.innerHTML = `<div class=\"error\" style=\"color:red;\">${err}</div>`;\n",
       "      throw err;\n",
       "    }\n",
       "\n",
       "    function displayChart(vegaEmbed) {\n",
       "      vegaEmbed(outputDiv, spec, embedOpt)\n",
       "        .catch(err => showError(`Javascript Error: ${err.message}<br>This usually means there's a typo in your chart specification. See the javascript console for the full traceback.`));\n",
       "    }\n",
       "\n",
       "    if(typeof define === \"function\" && define.amd) {\n",
       "      requirejs.config({paths});\n",
       "      require([\"vega-embed\"], displayChart, err => showError(`Error loading script: ${err.message}`));\n",
       "    } else if (typeof vegaEmbed === \"function\") {\n",
       "      displayChart(vegaEmbed);\n",
       "    } else {\n",
       "      loadScript(\"vega\")\n",
       "        .then(() => loadScript(\"vega-lite\"))\n",
       "        .then(() => loadScript(\"vega-embed\"))\n",
       "        .catch(showError)\n",
       "        .then(() => displayChart(vegaEmbed));\n",
       "    }\n",
       "  })({\"config\": {\"view\": {\"continuousWidth\": 400, \"continuousHeight\": 300}}, \"hconcat\": [{\"layer\": [{\"data\": {\"name\": \"data-ea656ec6eba18789fd72cffe5c384688\"}, \"mark\": \"line\", \"encoding\": {\"color\": {\"condition\": {\"type\": \"ordinal\", \"field\": \"Country\", \"legend\": null, \"scale\": {\"domain\": [\"Spain\", \"France\", \"Germany\", \"Italy\", \"Denmark\"], \"range\": [\"#B6BA18\", \"#003459\", \"crimson\", \"green\", \"#F18F01\"]}, \"selection\": \"selector004\"}, \"value\": \"lightgray\"}, \"size\": {\"condition\": {\"value\": 4, \"selection\": \"selector004\"}, \"value\": 0}, \"x\": {\"type\": \"temporal\", \"field\": \"Date\", \"timeUnit\": \"monthdate\"}, \"y\": {\"type\": \"quantitative\", \"axis\": {\"labelFontSize\": 13, \"orient\": \"right\", \"title\": \"\"}, \"field\": \"Infection\"}}, \"height\": 600, \"width\": 800}, {\"data\": {\"name\": \"data-510e1ba354c138a54b173a2b409bb71a\"}, \"mark\": {\"type\": \"circle\", \"size\": 150}, \"encoding\": {\"color\": {\"condition\": {\"type\": \"ordinal\", \"field\": \"Country\", \"legend\": null, \"scale\": {\"domain\": [\"Spain\", \"France\", \"Germany\", \"Italy\", \"Denmark\"], \"range\": [\"#B6BA18\", \"#003459\", \"crimson\", \"green\", \"#F18F01\"]}, \"selection\": \"selector004\"}, \"value\": \"lightgray\"}, \"size\": {\"condition\": {\"value\": 160, \"selection\": \"selector004\"}, \"value\": 0}, \"tooltip\": [{\"type\": \"nominal\", \"field\": \"Country\"}, {\"type\": \"temporal\", \"field\": \"Date\", \"format\": \"%B %e\"}, {\"type\": \"ordinal\", \"field\": \"Infection\"}, {\"type\": \"nominal\", \"field\": \"Text\", \"title\": \"Event\"}], \"x\": {\"type\": \"temporal\", \"axis\": {\"labelAngle\": -40, \"labelFontSize\": 13, \"labelSeparation\": 10, \"title\": \"Date\", \"titleFontSize\": 18}, \"field\": \"Date\", \"timeUnit\": \"monthdate\"}, \"y\": {\"type\": \"quantitative\", \"axis\": {\"grid\": true, \"labelFontSize\": 13, \"orient\": \"left\", \"title\": \"Currently Infected\", \"titleFontSize\": 18}, \"field\": \"Infection\"}}, \"selection\": {\"selector004\": {\"type\": \"multi\", \"fields\": [\"Country\"]}}}]}, {\"data\": {\"name\": \"data-510e1ba354c138a54b173a2b409bb71a\"}, \"mark\": {\"type\": \"point\", \"filled\": true, \"size\": 300}, \"encoding\": {\"color\": {\"condition\": {\"type\": \"ordinal\", \"field\": \"Country\", \"legend\": null, \"scale\": {\"domain\": [\"Spain\", \"France\", \"Germany\", \"Italy\", \"Denmark\"], \"range\": [\"#B6BA18\", \"#003459\", \"crimson\", \"green\", \"#F18F01\"]}, \"selection\": \"selector004\"}, \"value\": \"lightgray\"}, \"y\": {\"type\": \"nominal\", \"axis\": {\"labelFontSize\": 16, \"orient\": \"right\", \"title\": \"\"}, \"field\": \"Country\"}}, \"height\": 140, \"selection\": {\"selector004\": {\"type\": \"multi\", \"fields\": [\"Country\"]}}, \"width\": 40}], \"resolve\": {\"scale\": {\"x\": \"independent\", \"y\": \"independent\"}}, \"$schema\": \"https://vega.github.io/schema/vega-lite/v4.0.2.json\", \"datasets\": {\"data-ea656ec6eba18789fd72cffe5c384688\": [{\"Country\": \"France\", \"Date\": \"2/21/2020\", \"Infection\": 7}, {\"Country\": \"Denmark\", \"Date\": \"2/21/2020\", \"Infection\": 0}, {\"Country\": \"Spain\", \"Date\": \"2/21/2020\", \"Infection\": 0}, {\"Country\": \"Germany\", \"Date\": \"2/21/2020\", \"Infection\": 2}, {\"Country\": \"Italy\", \"Date\": \"2/21/2020\", \"Infection\": 19}, {\"Country\": \"France\", \"Date\": \"2/22/2020\", \"Infection\": 7}, {\"Country\": \"Denmark\", \"Date\": \"2/22/2020\", \"Infection\": 0}, {\"Country\": \"Spain\", \"Date\": \"2/22/2020\", \"Infection\": 0}, {\"Country\": \"Germany\", \"Date\": \"2/22/2020\", \"Infection\": 2}, {\"Country\": \"Italy\", \"Date\": \"2/22/2020\", \"Infection\": 59}, {\"Country\": \"France\", \"Date\": \"2/23/2020\", \"Infection\": 7}, {\"Country\": \"Denmark\", \"Date\": \"2/23/2020\", \"Infection\": 0}, {\"Country\": \"Spain\", \"Date\": \"2/23/2020\", \"Infection\": 0}, {\"Country\": \"Germany\", \"Date\": \"2/23/2020\", \"Infection\": 2}, {\"Country\": \"Italy\", \"Date\": \"2/23/2020\", \"Infection\": 150}, {\"Country\": \"France\", \"Date\": \"2/24/2020\", \"Infection\": 7}, {\"Country\": \"Denmark\", \"Date\": \"2/24/2020\", \"Infection\": 0}, {\"Country\": \"Spain\", \"Date\": \"2/24/2020\", \"Infection\": 0}, {\"Country\": \"Germany\", \"Date\": \"2/24/2020\", \"Infection\": 2}, {\"Country\": \"Italy\", \"Date\": \"2/24/2020\", \"Infection\": 221}, {\"Country\": \"France\", \"Date\": \"2/25/2020\", \"Infection\": 2}, {\"Country\": \"Denmark\", \"Date\": \"2/25/2020\", \"Infection\": 0}, {\"Country\": \"Spain\", \"Date\": \"2/25/2020\", \"Infection\": 4}, {\"Country\": \"Germany\", \"Date\": \"2/25/2020\", \"Infection\": 3}, {\"Country\": \"Italy\", \"Date\": \"2/25/2020\", \"Infection\": 311}, {\"Country\": \"France\", \"Date\": \"2/26/2020\", \"Infection\": 5}, {\"Country\": \"Denmark\", \"Date\": \"2/26/2020\", \"Infection\": 0}, {\"Country\": \"Spain\", \"Date\": \"2/26/2020\", \"Infection\": 11}, {\"Country\": \"Germany\", \"Date\": \"2/26/2020\", \"Infection\": 12}, {\"Country\": \"Italy\", \"Date\": \"2/26/2020\", \"Infection\": 438}, {\"Country\": \"France\", \"Date\": \"2/27/2020\", \"Infection\": 25}, {\"Country\": \"Denmark\", \"Date\": \"2/27/2020\", \"Infection\": 1}, {\"Country\": \"Spain\", \"Date\": \"2/27/2020\", \"Infection\": 13}, {\"Country\": \"Germany\", \"Date\": \"2/27/2020\", \"Infection\": 30}, {\"Country\": \"Italy\", \"Date\": \"2/27/2020\", \"Infection\": 593}, {\"Country\": \"France\", \"Date\": \"2/28/2020\", \"Infection\": 44}, {\"Country\": \"Denmark\", \"Date\": \"2/28/2020\", \"Infection\": 1}, {\"Country\": \"Spain\", \"Date\": \"2/28/2020\", \"Infection\": 30}, {\"Country\": \"Germany\", \"Date\": \"2/28/2020\", \"Infection\": 32}, {\"Country\": \"Italy\", \"Date\": \"2/28/2020\", \"Infection\": 821}, {\"Country\": \"France\", \"Date\": \"2/29/2020\", \"Infection\": 86}, {\"Country\": \"Denmark\", \"Date\": \"2/29/2020\", \"Infection\": 3}, {\"Country\": \"Spain\", \"Date\": \"2/29/2020\", \"Infection\": 43}, {\"Country\": \"Germany\", \"Date\": \"2/29/2020\", \"Infection\": 63}, {\"Country\": \"Italy\", \"Date\": \"2/29/2020\", \"Infection\": 1053}, {\"Country\": \"France\", \"Date\": \"3/1/2020\", \"Infection\": 116}, {\"Country\": \"Denmark\", \"Date\": \"3/1/2020\", \"Infection\": 4}, {\"Country\": \"Spain\", \"Date\": \"3/1/2020\", \"Infection\": 82}, {\"Country\": \"Germany\", \"Date\": \"3/1/2020\", \"Infection\": 114}, {\"Country\": \"Italy\", \"Date\": \"3/1/2020\", \"Infection\": 1577}, {\"Country\": \"France\", \"Date\": \"3/2/2020\", \"Infection\": 176}, {\"Country\": \"Denmark\", \"Date\": \"3/2/2020\", \"Infection\": 4}, {\"Country\": \"Spain\", \"Date\": \"3/2/2020\", \"Infection\": 118}, {\"Country\": \"Germany\", \"Date\": \"3/2/2020\", \"Infection\": 143}, {\"Country\": \"Italy\", \"Date\": \"3/2/2020\", \"Infection\": 1835}, {\"Country\": \"France\", \"Date\": \"3/3/2020\", \"Infection\": 188}, {\"Country\": \"Denmark\", \"Date\": \"3/3/2020\", \"Infection\": 6}, {\"Country\": \"Spain\", \"Date\": \"3/3/2020\", \"Infection\": 162}, {\"Country\": \"Germany\", \"Date\": \"3/3/2020\", \"Infection\": 180}, {\"Country\": \"Italy\", \"Date\": \"3/3/2020\", \"Infection\": 2263}, {\"Country\": \"France\", \"Date\": \"3/4/2020\", \"Infection\": 272}, {\"Country\": \"Denmark\", \"Date\": \"3/4/2020\", \"Infection\": 11}, {\"Country\": \"Spain\", \"Date\": \"3/4/2020\", \"Infection\": 218}, {\"Country\": \"Germany\", \"Date\": \"3/4/2020\", \"Infection\": 246}, {\"Country\": \"Italy\", \"Date\": \"3/4/2020\", \"Infection\": 2706}, {\"Country\": \"France\", \"Date\": \"3/5/2020\", \"Infection\": 362}, {\"Country\": \"Denmark\", \"Date\": \"3/5/2020\", \"Infection\": 11}, {\"Country\": \"Spain\", \"Date\": \"3/5/2020\", \"Infection\": 254}, {\"Country\": \"Germany\", \"Date\": \"3/5/2020\", \"Infection\": 466}, {\"Country\": \"Italy\", \"Date\": \"3/5/2020\", \"Infection\": 3296}, {\"Country\": \"France\", \"Date\": \"3/6/2020\", \"Infection\": 635}, {\"Country\": \"Denmark\", \"Date\": \"3/6/2020\", \"Infection\": 23}, {\"Country\": \"Spain\", \"Date\": \"3/6/2020\", \"Infection\": 393}, {\"Country\": \"Germany\", \"Date\": \"3/6/2020\", \"Infection\": 653}, {\"Country\": \"Italy\", \"Date\": \"3/6/2020\", \"Infection\": 3916}, {\"Country\": \"France\", \"Date\": \"3/7/2020\", \"Infection\": 929}, {\"Country\": \"Denmark\", \"Date\": \"3/7/2020\", \"Infection\": 23}, {\"Country\": \"Spain\", \"Date\": \"3/7/2020\", \"Infection\": 460}, {\"Country\": \"Germany\", \"Date\": \"3/7/2020\", \"Infection\": 781}, {\"Country\": \"Italy\", \"Date\": \"3/7/2020\", \"Infection\": 5061}, {\"Country\": \"France\", \"Date\": \"3/8/2020\", \"Infection\": 1098}, {\"Country\": \"Denmark\", \"Date\": \"3/8/2020\", \"Infection\": 36}, {\"Country\": \"Spain\", \"Date\": \"3/8/2020\", \"Infection\": 626}, {\"Country\": \"Germany\", \"Date\": \"3/8/2020\", \"Infection\": 1022}, {\"Country\": \"Italy\", \"Date\": \"3/8/2020\", \"Infection\": 6387}, {\"Country\": \"France\", \"Date\": \"3/9/2020\", \"Infection\": 1181}, {\"Country\": \"Denmark\", \"Date\": \"3/9/2020\", \"Infection\": 91}, {\"Country\": \"Spain\", \"Date\": \"3/9/2020\", \"Infection\": 1013}, {\"Country\": \"Germany\", \"Date\": \"3/9/2020\", \"Infection\": 1156}, {\"Country\": \"Italy\", \"Date\": \"3/9/2020\", \"Infection\": 7985}, {\"Country\": \"France\", \"Date\": \"3/10/2020\", \"Infection\": 1742}, {\"Country\": \"Denmark\", \"Date\": \"3/10/2020\", \"Infection\": 263}, {\"Country\": \"Spain\", \"Date\": \"3/10/2020\", \"Infection\": 1628}, {\"Country\": \"Germany\", \"Date\": \"3/10/2020\", \"Infection\": 1437}, {\"Country\": \"Italy\", \"Date\": \"3/10/2020\", \"Infection\": 8794}, {\"Country\": \"France\", \"Date\": \"3/11/2020\", \"Infection\": 2224}, {\"Country\": \"Denmark\", \"Date\": \"3/11/2020\", \"Infection\": 443}, {\"Country\": \"Spain\", \"Date\": \"3/11/2020\", \"Infection\": 2040}, {\"Country\": \"Germany\", \"Date\": \"3/11/2020\", \"Infection\": 1880}, {\"Country\": \"Italy\", \"Date\": \"3/11/2020\", \"Infection\": 10590}, {\"Country\": \"France\", \"Date\": \"3/12/2020\", \"Infection\": 2224}, {\"Country\": \"Denmark\", \"Date\": \"3/12/2020\", \"Infection\": 616}, {\"Country\": \"Spain\", \"Date\": \"3/12/2020\", \"Infection\": 2039}, {\"Country\": \"Germany\", \"Date\": \"3/12/2020\", \"Infection\": 2050}, {\"Country\": \"Italy\", \"Date\": \"3/12/2020\", \"Infection\": 10590}, {\"Country\": \"France\", \"Date\": \"3/13/2020\", \"Infection\": 3576}, {\"Country\": \"Denmark\", \"Date\": \"3/13/2020\", \"Infection\": 803}, {\"Country\": \"Spain\", \"Date\": \"3/13/2020\", \"Infection\": 4906}, {\"Country\": \"Germany\", \"Date\": \"3/13/2020\", \"Infection\": 3622}, {\"Country\": \"Italy\", \"Date\": \"3/13/2020\", \"Infection\": 14955}, {\"Country\": \"France\", \"Date\": \"3/14/2020\", \"Infection\": 4377}, {\"Country\": \"Denmark\", \"Date\": \"3/14/2020\", \"Infection\": 834}, {\"Country\": \"Spain\", \"Date\": \"3/14/2020\", \"Infection\": 5679}, {\"Country\": \"Germany\", \"Date\": \"3/14/2020\", \"Infection\": 4530}, {\"Country\": \"Italy\", \"Date\": \"3/14/2020\", \"Infection\": 17750}], \"data-510e1ba354c138a54b173a2b409bb71a\": [{\"Country\": \"Denmark\", \"Date\": \"3/9/2020\", \"Infection\": 91, \"Text\": \"first school is closed. Public transport is encouraged not to be used, especially in rush hours.\"}, {\"Country\": \"Denmark\", \"Date\": \"3/11/2020\", \"Infection\": 443, \"Text\": \"Everyone is recommended to stay home. Schools are announced to shutdown from March 13th. Same applies for people working non essential jobs in public sectors.\"}, {\"Country\": \"Denmark\", \"Date\": \"3/14/2020\", \"Infection\": 834, \"Text\": \"Borders are closing for people who don\\u2019t have a valid purpose of entry.\"}, {\"Country\": \"Germany\", \"Date\": \"2/26/2020\", \"Infection\": 12, \"Text\": \"Several schools and public places were closed in the region of North Rhine-Westphalia, until 2 March. Several other public events are also cancelled.\"}, {\"Country\": \"Germany\", \"Date\": \"3/2/2020\", \"Infection\": 143, \"Text\": \"the \\u2018Robert Koch Institute\\u2019 raised its threat level for Germany to 'moderate' and the European Centre for Disease Prevention and Control raised its threat level for Europe from 'moderate' to 'high'\"}, {\"Country\": \"Germany\", \"Date\": \"3/10/2020\", \"Infection\": 1437, \"Text\": \"A general ban on events with more than 1,000 participants put into immediate effect by several federal states, Germany's Ice Hockey league\\u2019 2019/2020 season cancelled immediately, Several matches of the football leagues, including all Bundesliga matches of matchday 26, were announced to be played behind closed doors. It was later confirmed on 13 March that all Bundesliga and 2. Bundesliga matches would be postponed until at least 2 April.\"}, {\"Country\": \"Italy\", \"Date\": \"2/22/2020\", \"Infection\": 59, \"Text\": \"the government announced a new decree imposing the quarantine of more than 50,000 people from 11 different municipalities in Northern Italy. Schools were closed in ten municipalities in Lombardy, one in Veneto and one in Emilia Romagna. All public events were cancelled and some commercial activities.\"}, {\"Country\": \"Italy\", \"Date\": \"3/1/2020\", \"Infection\": 1577, \"Text\": \"the Council of Ministers approved a decree to organise the containment of the outbreak: A red zone, where the whole population is in quarantine. A yellow zone, where social and sport events are suspended and schools, theatres, clubs and cinemas are closed.\"}, {\"Country\": \"Italy\", \"Date\": \"3/10/2020\", \"Infection\": 8794, \"Text\": \"Prime Minister Conte increased the quarantine lockdown to cover all of Italy, including travel restrictions and a ban on public gatherings\"}, {\"Country\": \"France\", \"Date\": \"3/12/2020\", \"Infection\": 2224, \"Text\": \"President announced that all schools and all universities would close from Monday\"}, {\"Country\": \"France\", \"Date\": \"3/13/2020\", \"Infection\": 3576, \"Text\": \"Prime minister banned gatherings of more than 100 people, not including public transportation.\"}, {\"Country\": \"Spain\", \"Date\": \"3/9/2020\", \"Infection\": 1013, \"Text\": \"The president of Madrid announces the cancellation of classes in the city at all educational levels.\"}, {\"Country\": \"Spain\", \"Date\": \"3/13/2020\", \"Infection\": 4906, \"Text\": \"Prime Minister announces the declaration of the state of emergency in the nation for a period of 15 days\"}, {\"Country\": \"Spain\", \"Date\": \"3/10/2020\", \"Infection\": 1628, \"Text\": \"Spanish Government suspends events with more than one thousand attendants in many regions.\"}]}}, {\"mode\": \"vega-lite\"});\n",
       "</script>"
      ],
      "text/plain": [
       "alt.HConcatChart(...)"
      ]
     },
     "execution_count": 342,
     "metadata": {},
     "output_type": "execute_result"
    }
   ],
   "source": [
    "points_ts = alt.Chart(hover_frame).mark_circle(size=150).encode(\n",
    "    x = alt.X('monthdate(Date):T', axis = alt.Axis(titleFontSize= 18,title = \"Date\",labelFontSize = 13,labelAngle = -40,labelSeparation = 10)),\n",
    "    y =alt.Y(\"Infection\", axis=alt.Axis(titleFontSize= 18,title = \"Currently Infected\", orient = \"left\", grid = True,labelFontSize = 13 )),\n",
    "    color = color,\n",
    "    size = size_hover,\n",
    "    tooltip = [alt.Tooltip(\"Country:N\"), alt.Tooltip(\"Date:T\", format='%B %e'), \"Infection:O\", alt.Tooltip(\"Text:N\", title = \"Event\")]\n",
    ").add_selection(\n",
    "selection\n",
    ")\n",
    "\n",
    "\n",
    "#what.configure_axisRight(axis=alt.Axis(titleFontSize= 16,title = \"Currently Infected\", orient = \"left\"))\n",
    "what = alt.layer(okay,points_ts) | legend\n",
    "what.save(\"chart.html\")\n",
    "#?what\n",
    "what.resolve_scale(\n",
    "    y='independent', x = \"independent\")"
   ]
  },
  {
   "cell_type": "code",
   "execution_count": null,
   "metadata": {},
   "outputs": [],
   "source": []
  },
  {
   "cell_type": "code",
   "execution_count": null,
   "metadata": {},
   "outputs": [],
   "source": []
  },
  {
   "cell_type": "code",
   "execution_count": null,
   "metadata": {},
   "outputs": [],
   "source": []
  }
 ],
 "metadata": {
  "kernelspec": {
   "display_name": "Python 3",
   "language": "python",
   "name": "python3"
  },
  "language_info": {
   "codemirror_mode": {
    "name": "ipython",
    "version": 3
   },
   "file_extension": ".py",
   "mimetype": "text/x-python",
   "name": "python",
   "nbconvert_exporter": "python",
   "pygments_lexer": "ipython3",
   "version": "3.7.4"
  }
 },
 "nbformat": 4,
 "nbformat_minor": 4
}
